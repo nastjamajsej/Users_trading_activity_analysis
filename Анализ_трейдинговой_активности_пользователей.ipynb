{
  "nbformat": 4,
  "nbformat_minor": 0,
  "metadata": {
    "colab": {
      "provenance": [],
      "collapsed_sections": [
        "gqC-ge-MdddJ",
        "oVdbQb1i1_Ix",
        "gCzHylZ02Iwb",
        "au2ThiWoJVVM",
        "b0mcexDCJqIb",
        "KJkqLOCLO0gA"
      ]
    },
    "kernelspec": {
      "name": "python3",
      "display_name": "Python 3"
    },
    "language_info": {
      "name": "python"
    }
  },
  "cells": [
    {
      "cell_type": "markdown",
      "source": [
        "**TASK**\n",
        "\n",
        "Задание (на основе тестового на позицию Junior Data Analyst): \"Проанализировать трейдинговую активность наших юзеров\".\n",
        "\n",
        "Комментарий: Финтех компания разрабатывает и поддерживает свою собственную трейдинговую платформу. Данные \"trading_data_copy.csv\" доступны по ссылке: https://drive.google.com/file/d/1CiSKIO1pVKRnLjxYvVrbZTmPwrZFrPQ4/view?usp=sharing\n",
        "\n",
        "\"Логику ответа и анализируемые данные можно определить самостоятельно, но хотелось бы получить ответы на следующие вопросы:\n",
        "\n",
        "● Какое торговое поведение свойственно юзерам по регионам и платформам? В чем сходства и различия?\n",
        "\n",
        "● Исходя из общих поведенческих паттернов, на какие сегменты можно разбить юзеров?\n",
        "\n",
        "● Проанализировать данные, написать выводы и дать ответ на вопрос Топ-менеджменту “Как прошли последние 3 месяца деятельности компании и в частности какие результаты за Июнь?”. \n",
        "\n",
        "Комментарии по датасету: PnL - доход юзера с инструмента"
      ],
      "metadata": {
        "id": "zY8od-NrnoJ_"
      }
    },
    {
      "cell_type": "code",
      "source": [
        "import pandas as pd"
      ],
      "metadata": {
        "id": "5UQyCrsUn2dj"
      },
      "execution_count": null,
      "outputs": []
    },
    {
      "cell_type": "markdown",
      "source": [
        "## **Some preprocessing**"
      ],
      "metadata": {
        "id": "gqC-ge-MdddJ"
      }
    },
    {
      "cell_type": "code",
      "source": [
        "# downloading dataframe\n",
        "df = pd.read_csv(\"trading_data_copy.csv\")\n",
        "df.head(5)"
      ],
      "metadata": {
        "colab": {
          "base_uri": "https://localhost:8080/",
          "height": 206
        },
        "id": "4ixtna0wn5MQ",
        "outputId": "9c67b3fa-20d7-4cb1-c012-d03362051d30"
      },
      "execution_count": null,
      "outputs": [
        {
          "output_type": "execute_result",
          "data": {
            "text/plain": [
              "     user_id      user_registration_time            deal_create_time  \\\n",
              "0  511818141  2020-05-04 01:29:02.035977   2020-05-21 08:24:27.21+03   \n",
              "1  144808927  2017-06-06 03:45:53.000000  2020-05-21 08:20:07.272+03   \n",
              "2  518331028  2020-05-11 21:19:02.779547  2020-05-22 06:01:04.244+03   \n",
              "3  483739956  2020-04-04 07:39:54.644213   2020-05-21 08:20:21.18+03   \n",
              "4  483739956  2020-04-04 07:39:54.644213  2020-05-21 08:21:18.218+03   \n",
              "\n",
              "              deal_close_time instrument_type   asset deal_platform  \\\n",
              "0   2020-05-21 08:25:03.66+03  digital-option  AUDJPY       Android   \n",
              "1  2020-05-21 08:25:06.323+03  digital-option  EURUSD           Web   \n",
              "2  2020-05-22 06:02:02.791+03  digital-option  GBPUSD           Web   \n",
              "3  2020-05-21 08:25:04.869+03  digital-option  USDCHF       Android   \n",
              "4  2020-05-21 08:25:06.067+03  digital-option  AUDCAD       Android   \n",
              "\n",
              "            region       pnl  \n",
              "0  America (LATAM) -1.666610  \n",
              "1              ACO -9.599913  \n",
              "2  America (LATAM) -5.863622  \n",
              "3              ACO -1.666620  \n",
              "4              ACO -1.666665  "
            ],
            "text/html": [
              "\n",
              "  <div id=\"df-cb7dccbe-eae4-4679-9549-5a5ac28a8709\">\n",
              "    <div class=\"colab-df-container\">\n",
              "      <div>\n",
              "<style scoped>\n",
              "    .dataframe tbody tr th:only-of-type {\n",
              "        vertical-align: middle;\n",
              "    }\n",
              "\n",
              "    .dataframe tbody tr th {\n",
              "        vertical-align: top;\n",
              "    }\n",
              "\n",
              "    .dataframe thead th {\n",
              "        text-align: right;\n",
              "    }\n",
              "</style>\n",
              "<table border=\"1\" class=\"dataframe\">\n",
              "  <thead>\n",
              "    <tr style=\"text-align: right;\">\n",
              "      <th></th>\n",
              "      <th>user_id</th>\n",
              "      <th>user_registration_time</th>\n",
              "      <th>deal_create_time</th>\n",
              "      <th>deal_close_time</th>\n",
              "      <th>instrument_type</th>\n",
              "      <th>asset</th>\n",
              "      <th>deal_platform</th>\n",
              "      <th>region</th>\n",
              "      <th>pnl</th>\n",
              "    </tr>\n",
              "  </thead>\n",
              "  <tbody>\n",
              "    <tr>\n",
              "      <th>0</th>\n",
              "      <td>511818141</td>\n",
              "      <td>2020-05-04 01:29:02.035977</td>\n",
              "      <td>2020-05-21 08:24:27.21+03</td>\n",
              "      <td>2020-05-21 08:25:03.66+03</td>\n",
              "      <td>digital-option</td>\n",
              "      <td>AUDJPY</td>\n",
              "      <td>Android</td>\n",
              "      <td>America (LATAM)</td>\n",
              "      <td>-1.666610</td>\n",
              "    </tr>\n",
              "    <tr>\n",
              "      <th>1</th>\n",
              "      <td>144808927</td>\n",
              "      <td>2017-06-06 03:45:53.000000</td>\n",
              "      <td>2020-05-21 08:20:07.272+03</td>\n",
              "      <td>2020-05-21 08:25:06.323+03</td>\n",
              "      <td>digital-option</td>\n",
              "      <td>EURUSD</td>\n",
              "      <td>Web</td>\n",
              "      <td>ACO</td>\n",
              "      <td>-9.599913</td>\n",
              "    </tr>\n",
              "    <tr>\n",
              "      <th>2</th>\n",
              "      <td>518331028</td>\n",
              "      <td>2020-05-11 21:19:02.779547</td>\n",
              "      <td>2020-05-22 06:01:04.244+03</td>\n",
              "      <td>2020-05-22 06:02:02.791+03</td>\n",
              "      <td>digital-option</td>\n",
              "      <td>GBPUSD</td>\n",
              "      <td>Web</td>\n",
              "      <td>America (LATAM)</td>\n",
              "      <td>-5.863622</td>\n",
              "    </tr>\n",
              "    <tr>\n",
              "      <th>3</th>\n",
              "      <td>483739956</td>\n",
              "      <td>2020-04-04 07:39:54.644213</td>\n",
              "      <td>2020-05-21 08:20:21.18+03</td>\n",
              "      <td>2020-05-21 08:25:04.869+03</td>\n",
              "      <td>digital-option</td>\n",
              "      <td>USDCHF</td>\n",
              "      <td>Android</td>\n",
              "      <td>ACO</td>\n",
              "      <td>-1.666620</td>\n",
              "    </tr>\n",
              "    <tr>\n",
              "      <th>4</th>\n",
              "      <td>483739956</td>\n",
              "      <td>2020-04-04 07:39:54.644213</td>\n",
              "      <td>2020-05-21 08:21:18.218+03</td>\n",
              "      <td>2020-05-21 08:25:06.067+03</td>\n",
              "      <td>digital-option</td>\n",
              "      <td>AUDCAD</td>\n",
              "      <td>Android</td>\n",
              "      <td>ACO</td>\n",
              "      <td>-1.666665</td>\n",
              "    </tr>\n",
              "  </tbody>\n",
              "</table>\n",
              "</div>\n",
              "      <button class=\"colab-df-convert\" onclick=\"convertToInteractive('df-cb7dccbe-eae4-4679-9549-5a5ac28a8709')\"\n",
              "              title=\"Convert this dataframe to an interactive table.\"\n",
              "              style=\"display:none;\">\n",
              "        \n",
              "  <svg xmlns=\"http://www.w3.org/2000/svg\" height=\"24px\"viewBox=\"0 0 24 24\"\n",
              "       width=\"24px\">\n",
              "    <path d=\"M0 0h24v24H0V0z\" fill=\"none\"/>\n",
              "    <path d=\"M18.56 5.44l.94 2.06.94-2.06 2.06-.94-2.06-.94-.94-2.06-.94 2.06-2.06.94zm-11 1L8.5 8.5l.94-2.06 2.06-.94-2.06-.94L8.5 2.5l-.94 2.06-2.06.94zm10 10l.94 2.06.94-2.06 2.06-.94-2.06-.94-.94-2.06-.94 2.06-2.06.94z\"/><path d=\"M17.41 7.96l-1.37-1.37c-.4-.4-.92-.59-1.43-.59-.52 0-1.04.2-1.43.59L10.3 9.45l-7.72 7.72c-.78.78-.78 2.05 0 2.83L4 21.41c.39.39.9.59 1.41.59.51 0 1.02-.2 1.41-.59l7.78-7.78 2.81-2.81c.8-.78.8-2.07 0-2.86zM5.41 20L4 18.59l7.72-7.72 1.47 1.35L5.41 20z\"/>\n",
              "  </svg>\n",
              "      </button>\n",
              "      \n",
              "  <style>\n",
              "    .colab-df-container {\n",
              "      display:flex;\n",
              "      flex-wrap:wrap;\n",
              "      gap: 12px;\n",
              "    }\n",
              "\n",
              "    .colab-df-convert {\n",
              "      background-color: #E8F0FE;\n",
              "      border: none;\n",
              "      border-radius: 50%;\n",
              "      cursor: pointer;\n",
              "      display: none;\n",
              "      fill: #1967D2;\n",
              "      height: 32px;\n",
              "      padding: 0 0 0 0;\n",
              "      width: 32px;\n",
              "    }\n",
              "\n",
              "    .colab-df-convert:hover {\n",
              "      background-color: #E2EBFA;\n",
              "      box-shadow: 0px 1px 2px rgba(60, 64, 67, 0.3), 0px 1px 3px 1px rgba(60, 64, 67, 0.15);\n",
              "      fill: #174EA6;\n",
              "    }\n",
              "\n",
              "    [theme=dark] .colab-df-convert {\n",
              "      background-color: #3B4455;\n",
              "      fill: #D2E3FC;\n",
              "    }\n",
              "\n",
              "    [theme=dark] .colab-df-convert:hover {\n",
              "      background-color: #434B5C;\n",
              "      box-shadow: 0px 1px 3px 1px rgba(0, 0, 0, 0.15);\n",
              "      filter: drop-shadow(0px 1px 2px rgba(0, 0, 0, 0.3));\n",
              "      fill: #FFFFFF;\n",
              "    }\n",
              "  </style>\n",
              "\n",
              "      <script>\n",
              "        const buttonEl =\n",
              "          document.querySelector('#df-cb7dccbe-eae4-4679-9549-5a5ac28a8709 button.colab-df-convert');\n",
              "        buttonEl.style.display =\n",
              "          google.colab.kernel.accessAllowed ? 'block' : 'none';\n",
              "\n",
              "        async function convertToInteractive(key) {\n",
              "          const element = document.querySelector('#df-cb7dccbe-eae4-4679-9549-5a5ac28a8709');\n",
              "          const dataTable =\n",
              "            await google.colab.kernel.invokeFunction('convertToInteractive',\n",
              "                                                     [key], {});\n",
              "          if (!dataTable) return;\n",
              "\n",
              "          const docLinkHtml = 'Like what you see? Visit the ' +\n",
              "            '<a target=\"_blank\" href=https://colab.research.google.com/notebooks/data_table.ipynb>data table notebook</a>'\n",
              "            + ' to learn more about interactive tables.';\n",
              "          element.innerHTML = '';\n",
              "          dataTable['output_type'] = 'display_data';\n",
              "          await google.colab.output.renderOutput(dataTable, element);\n",
              "          const docLink = document.createElement('div');\n",
              "          docLink.innerHTML = docLinkHtml;\n",
              "          element.appendChild(docLink);\n",
              "        }\n",
              "      </script>\n",
              "    </div>\n",
              "  </div>\n",
              "  "
            ]
          },
          "metadata": {},
          "execution_count": 5
        }
      ]
    },
    {
      "cell_type": "code",
      "source": [
        "# amount of observations\n",
        "df.shape[0]"
      ],
      "metadata": {
        "colab": {
          "base_uri": "https://localhost:8080/"
        },
        "id": "vCIudxljoLSZ",
        "outputId": "5781cfbe-3944-4651-d9e7-f163b10421d2"
      },
      "execution_count": null,
      "outputs": [
        {
          "output_type": "execute_result",
          "data": {
            "text/plain": [
              "200000"
            ]
          },
          "metadata": {},
          "execution_count": 6
        }
      ]
    },
    {
      "cell_type": "code",
      "source": [
        "# dataframe columns\n",
        "df.columns"
      ],
      "metadata": {
        "colab": {
          "base_uri": "https://localhost:8080/"
        },
        "id": "w83uoMWXoVKM",
        "outputId": "494051ab-a73d-4d83-9c6b-1c1371c32ce7"
      },
      "execution_count": null,
      "outputs": [
        {
          "output_type": "execute_result",
          "data": {
            "text/plain": [
              "Index(['user_id', 'user_registration_time', 'deal_create_time',\n",
              "       'deal_close_time', 'instrument_type', 'asset', 'deal_platform',\n",
              "       'region', 'pnl'],\n",
              "      dtype='object')"
            ]
          },
          "metadata": {},
          "execution_count": 7
        }
      ]
    },
    {
      "cell_type": "code",
      "source": [
        "# columns data types\n",
        "df.dtypes"
      ],
      "metadata": {
        "colab": {
          "base_uri": "https://localhost:8080/"
        },
        "id": "Mv9ag9RRoX7s",
        "outputId": "dfe83c37-339f-4bcb-bf1f-2b007b82a8a1"
      },
      "execution_count": null,
      "outputs": [
        {
          "output_type": "execute_result",
          "data": {
            "text/plain": [
              "user_id                     int64\n",
              "user_registration_time     object\n",
              "deal_create_time           object\n",
              "deal_close_time            object\n",
              "instrument_type            object\n",
              "asset                      object\n",
              "deal_platform              object\n",
              "region                     object\n",
              "pnl                       float64\n",
              "dtype: object"
            ]
          },
          "metadata": {},
          "execution_count": 8
        }
      ]
    },
    {
      "cell_type": "code",
      "source": [
        "# converting datetime columns from str type to datetime\n",
        "from datetime import datetime\n",
        "df.user_registration_time = df.user_registration_time.map(lambda x: datetime.strptime(x, '%Y-%m-%d %H:%M:%S.%f'))\n",
        "df.deal_create_time = df.deal_create_time.map(lambda x: datetime.strptime(x[:19], '%Y-%m-%d %H:%M:%S'))\n",
        "df.deal_close_time = df.deal_close_time.map(lambda x: datetime.strptime(x[:19], '%Y-%m-%d %H:%M:%S'))\n",
        "df.dtypes"
      ],
      "metadata": {
        "colab": {
          "base_uri": "https://localhost:8080/"
        },
        "id": "tnSNmBhCpgS7",
        "outputId": "a3c960e3-dda8-475f-f427-6a256b502424"
      },
      "execution_count": null,
      "outputs": [
        {
          "output_type": "execute_result",
          "data": {
            "text/plain": [
              "user_id                            int64\n",
              "user_registration_time    datetime64[ns]\n",
              "deal_create_time          datetime64[ns]\n",
              "deal_close_time           datetime64[ns]\n",
              "instrument_type                   object\n",
              "asset                             object\n",
              "deal_platform                     object\n",
              "region                            object\n",
              "pnl                              float64\n",
              "dtype: object"
            ]
          },
          "metadata": {},
          "execution_count": 9
        }
      ]
    },
    {
      "cell_type": "markdown",
      "source": [
        "## **Behavior differences by region**"
      ],
      "metadata": {
        "id": "oVdbQb1i1_Ix"
      }
    },
    {
      "cell_type": "code",
      "source": [
        "# unique regions\n",
        "df.region.unique()"
      ],
      "metadata": {
        "colab": {
          "base_uri": "https://localhost:8080/"
        },
        "id": "wvaPMjt70QrV",
        "outputId": "4b0f2a61-1c47-4695-8246-53dc536f9435"
      },
      "execution_count": null,
      "outputs": [
        {
          "output_type": "execute_result",
          "data": {
            "text/plain": [
              "array(['America (LATAM)', 'ACO', 'Reg Europe', 'Africa', 'China',\n",
              "       'Non-reg Europe'], dtype=object)"
            ]
          },
          "metadata": {},
          "execution_count": 10
        }
      ]
    },
    {
      "cell_type": "code",
      "source": [
        "# check how many deals are in each region\n",
        "df.groupby('region')['user_id'].count().plot.bar();"
      ],
      "metadata": {
        "colab": {
          "base_uri": "https://localhost:8080/",
          "height": 354
        },
        "id": "DlcPJbGx2byU",
        "outputId": "1cb890d1-ebad-4e3a-e80a-4362a171177b"
      },
      "execution_count": null,
      "outputs": [
        {
          "output_type": "display_data",
          "data": {
            "text/plain": [
              "<Figure size 432x288 with 1 Axes>"
            ],
            "image/png": "[encoded data removed]"
          },
          "metadata": {
            "needs_background": "light"
          }
        }
      ]
    },
    {
      "cell_type": "code",
      "source": [
        "# check how many users are in each region\n",
        "df.groupby('region')['user_id'].nunique().plot.bar();"
      ],
      "metadata": {
        "colab": {
          "base_uri": "https://localhost:8080/",
          "height": 354
        },
        "id": "opqA-kb13ZhH",
        "outputId": "e7eabf03-622f-4e1c-af8d-e00f70dfac87"
      },
      "execution_count": null,
      "outputs": [
        {
          "output_type": "display_data",
          "data": {
            "text/plain": [
              "<Figure size 432x288 with 1 Axes>"
            ],
            "image/png": "[encoded data removed]"
          },
          "metadata": {
            "needs_background": "light"
          }
        }
      ]
    },
    {
      "cell_type": "code",
      "source": [
        "# count average activity by regions (total amount of deals / total amount of unique users)\n",
        "d = df.groupby('region')['user_id'].agg(['count', 'nunique'])\n",
        "d['deals_per_user'] = d['count'] / d['nunique']\n",
        "d"
      ],
      "metadata": {
        "colab": {
          "base_uri": "https://localhost:8080/",
          "height": 269
        },
        "id": "OTe0IKKU36K3",
        "outputId": "800d014e-602b-484b-a5b0-6b780c006aa8"
      },
      "execution_count": null,
      "outputs": [
        {
          "output_type": "execute_result",
          "data": {
            "text/plain": [
              "                  count  nunique  deals_per_user\n",
              "region                                          \n",
              "ACO               56507    16229        3.481853\n",
              "Africa            12579     4786        2.628291\n",
              "America (LATAM)  125532    60516        2.074360\n",
              "China              1246      200        6.230000\n",
              "Non-reg Europe     1138      302        3.768212\n",
              "Reg Europe         2998     1490        2.012081"
            ],
            "text/html": [
              "\n",
              "  <div id=\"df-9be33c11-cf29-44fc-96c3-c118665e049d\">\n",
              "    <div class=\"colab-df-container\">\n",
              "      <div>\n",
              "<style scoped>\n",
              "    .dataframe tbody tr th:only-of-type {\n",
              "        vertical-align: middle;\n",
              "    }\n",
              "\n",
              "    .dataframe tbody tr th {\n",
              "        vertical-align: top;\n",
              "    }\n",
              "\n",
              "    .dataframe thead th {\n",
              "        text-align: right;\n",
              "    }\n",
              "</style>\n",
              "<table border=\"1\" class=\"dataframe\">\n",
              "  <thead>\n",
              "    <tr style=\"text-align: right;\">\n",
              "      <th></th>\n",
              "      <th>count</th>\n",
              "      <th>nunique</th>\n",
              "      <th>deals_per_user</th>\n",
              "    </tr>\n",
              "    <tr>\n",
              "      <th>region</th>\n",
              "      <th></th>\n",
              "      <th></th>\n",
              "      <th></th>\n",
              "    </tr>\n",
              "  </thead>\n",
              "  <tbody>\n",
              "    <tr>\n",
              "      <th>ACO</th>\n",
              "      <td>56507</td>\n",
              "      <td>16229</td>\n",
              "      <td>3.481853</td>\n",
              "    </tr>\n",
              "    <tr>\n",
              "      <th>Africa</th>\n",
              "      <td>12579</td>\n",
              "      <td>4786</td>\n",
              "      <td>2.628291</td>\n",
              "    </tr>\n",
              "    <tr>\n",
              "      <th>America (LATAM)</th>\n",
              "      <td>125532</td>\n",
              "      <td>60516</td>\n",
              "      <td>2.074360</td>\n",
              "    </tr>\n",
              "    <tr>\n",
              "      <th>China</th>\n",
              "      <td>1246</td>\n",
              "      <td>200</td>\n",
              "      <td>6.230000</td>\n",
              "    </tr>\n",
              "    <tr>\n",
              "      <th>Non-reg Europe</th>\n",
              "      <td>1138</td>\n",
              "      <td>302</td>\n",
              "      <td>3.768212</td>\n",
              "    </tr>\n",
              "    <tr>\n",
              "      <th>Reg Europe</th>\n",
              "      <td>2998</td>\n",
              "      <td>1490</td>\n",
              "      <td>2.012081</td>\n",
              "    </tr>\n",
              "  </tbody>\n",
              "</table>\n",
              "</div>\n",
              "      <button class=\"colab-df-convert\" onclick=\"convertToInteractive('df-9be33c11-cf29-44fc-96c3-c118665e049d')\"\n",
              "              title=\"Convert this dataframe to an interactive table.\"\n",
              "              style=\"display:none;\">\n",
              "        \n",
              "  <svg xmlns=\"http://www.w3.org/2000/svg\" height=\"24px\"viewBox=\"0 0 24 24\"\n",
              "       width=\"24px\">\n",
              "    <path d=\"M0 0h24v24H0V0z\" fill=\"none\"/>\n",
              "    <path d=\"M18.56 5.44l.94 2.06.94-2.06 2.06-.94-2.06-.94-.94-2.06-.94 2.06-2.06.94zm-11 1L8.5 8.5l.94-2.06 2.06-.94-2.06-.94L8.5 2.5l-.94 2.06-2.06.94zm10 10l.94 2.06.94-2.06 2.06-.94-2.06-.94-.94-2.06-.94 2.06-2.06.94z\"/><path d=\"M17.41 7.96l-1.37-1.37c-.4-.4-.92-.59-1.43-.59-.52 0-1.04.2-1.43.59L10.3 9.45l-7.72 7.72c-.78.78-.78 2.05 0 2.83L4 21.41c.39.39.9.59 1.41.59.51 0 1.02-.2 1.41-.59l7.78-7.78 2.81-2.81c.8-.78.8-2.07 0-2.86zM5.41 20L4 18.59l7.72-7.72 1.47 1.35L5.41 20z\"/>\n",
              "  </svg>\n",
              "      </button>\n",
              "      \n",
              "  <style>\n",
              "    .colab-df-container {\n",
              "      display:flex;\n",
              "      flex-wrap:wrap;\n",
              "      gap: 12px;\n",
              "    }\n",
              "\n",
              "    .colab-df-convert {\n",
              "      background-color: #E8F0FE;\n",
              "      border: none;\n",
              "      border-radius: 50%;\n",
              "      cursor: pointer;\n",
              "      display: none;\n",
              "      fill: #1967D2;\n",
              "      height: 32px;\n",
              "      padding: 0 0 0 0;\n",
              "      width: 32px;\n",
              "    }\n",
              "\n",
              "    .colab-df-convert:hover {\n",
              "      background-color: #E2EBFA;\n",
              "      box-shadow: 0px 1px 2px rgba(60, 64, 67, 0.3), 0px 1px 3px 1px rgba(60, 64, 67, 0.15);\n",
              "      fill: #174EA6;\n",
              "    }\n",
              "\n",
              "    [theme=dark] .colab-df-convert {\n",
              "      background-color: #3B4455;\n",
              "      fill: #D2E3FC;\n",
              "    }\n",
              "\n",
              "    [theme=dark] .colab-df-convert:hover {\n",
              "      background-color: #434B5C;\n",
              "      box-shadow: 0px 1px 3px 1px rgba(0, 0, 0, 0.15);\n",
              "      filter: drop-shadow(0px 1px 2px rgba(0, 0, 0, 0.3));\n",
              "      fill: #FFFFFF;\n",
              "    }\n",
              "  </style>\n",
              "\n",
              "      <script>\n",
              "        const buttonEl =\n",
              "          document.querySelector('#df-9be33c11-cf29-44fc-96c3-c118665e049d button.colab-df-convert');\n",
              "        buttonEl.style.display =\n",
              "          google.colab.kernel.accessAllowed ? 'block' : 'none';\n",
              "\n",
              "        async function convertToInteractive(key) {\n",
              "          const element = document.querySelector('#df-9be33c11-cf29-44fc-96c3-c118665e049d');\n",
              "          const dataTable =\n",
              "            await google.colab.kernel.invokeFunction('convertToInteractive',\n",
              "                                                     [key], {});\n",
              "          if (!dataTable) return;\n",
              "\n",
              "          const docLinkHtml = 'Like what you see? Visit the ' +\n",
              "            '<a target=\"_blank\" href=https://colab.research.google.com/notebooks/data_table.ipynb>data table notebook</a>'\n",
              "            + ' to learn more about interactive tables.';\n",
              "          element.innerHTML = '';\n",
              "          dataTable['output_type'] = 'display_data';\n",
              "          await google.colab.output.renderOutput(dataTable, element);\n",
              "          const docLink = document.createElement('div');\n",
              "          docLink.innerHTML = docLinkHtml;\n",
              "          element.appendChild(docLink);\n",
              "        }\n",
              "      </script>\n",
              "    </div>\n",
              "  </div>\n",
              "  "
            ]
          },
          "metadata": {},
          "execution_count": 13
        }
      ]
    },
    {
      "cell_type": "markdown",
      "source": [
        "Here's the **first insight** - vast magority of users come from America (LATAM) region but they are not so active, while users from China are 1.5 times more active but 600 less in quantity."
      ],
      "metadata": {
        "id": "ws4rZ_rb7chm"
      }
    },
    {
      "cell_type": "code",
      "source": [
        "# check which insturment types are used in different regions + their profitability\n",
        "d1 = df.groupby(['region', 'instrument_type']).agg({'user_id' : 'count', 'pnl' : 'sum'})\n",
        "d1['average profitability'] = d1['pnl'] / d1['user_id']\n",
        "d1"
      ],
      "metadata": {
        "colab": {
          "base_uri": "https://localhost:8080/",
          "height": 833
        },
        "id": "a36ZiLsV3LeR",
        "outputId": "cf30afed-5b25-4e73-abb1-3fa6b50bfaed"
      },
      "execution_count": null,
      "outputs": [
        {
          "output_type": "execute_result",
          "data": {
            "text/plain": [
              "                                 user_id           pnl  average profitability\n",
              "region          instrument_type                                              \n",
              "ACO             cfd                 1102  40185.602750              36.466064\n",
              "                crypto               307  -8043.085750             -26.198976\n",
              "                digital-option     50542 -52665.073683              -1.042006\n",
              "                forex               4556 -11573.423228              -2.540260\n",
              "Africa          cfd                  561  -2284.858577              -4.072832\n",
              "                crypto               161   -299.340998              -1.859261\n",
              "                digital-option     10323  -6000.789925              -0.581303\n",
              "                forex               1534  -1669.698830              -1.088461\n",
              "America (LATAM) cfd                 1705  -5449.562533              -3.196224\n",
              "                crypto               280  -2829.395943             -10.104986\n",
              "                digital-option    117111 -64271.458910              -0.548808\n",
              "                forex               6436   -197.932887              -0.030754\n",
              "China           cfd                    5      4.534198               0.906840\n",
              "                digital-option      1206    394.984320               0.327516\n",
              "                forex                 35  -1033.668637             -29.533390\n",
              "Non-reg Europe  cfd                  159  -2951.436795             -18.562496\n",
              "                crypto                16     55.225020               3.451564\n",
              "                digital-option       805  -2716.098447              -3.374035\n",
              "                forex                158    648.456275               4.104154\n",
              "Reg Europe      cfd                  758  -2879.883768              -3.799319\n",
              "                crypto                76 -33524.632802            -441.113589\n",
              "                digital-option       389  -3570.910635              -9.179719\n",
              "                forex               1384  -3412.959900              -2.466011\n",
              "                fx-option            391  -1787.165257              -4.570755"
            ],
            "text/html": [
              "\n",
              "  <div id=\"df-6e2ea9fb-85aa-4509-9ef6-239155f345ee\">\n",
              "    <div class=\"colab-df-container\">\n",
              "      <div>\n",
              "<style scoped>\n",
              "    .dataframe tbody tr th:only-of-type {\n",
              "        vertical-align: middle;\n",
              "    }\n",
              "\n",
              "    .dataframe tbody tr th {\n",
              "        vertical-align: top;\n",
              "    }\n",
              "\n",
              "    .dataframe thead th {\n",
              "        text-align: right;\n",
              "    }\n",
              "</style>\n",
              "<table border=\"1\" class=\"dataframe\">\n",
              "  <thead>\n",
              "    <tr style=\"text-align: right;\">\n",
              "      <th></th>\n",
              "      <th></th>\n",
              "      <th>user_id</th>\n",
              "      <th>pnl</th>\n",
              "      <th>average profitability</th>\n",
              "    </tr>\n",
              "    <tr>\n",
              "      <th>region</th>\n",
              "      <th>instrument_type</th>\n",
              "      <th></th>\n",
              "      <th></th>\n",
              "      <th></th>\n",
              "    </tr>\n",
              "  </thead>\n",
              "  <tbody>\n",
              "    <tr>\n",
              "      <th rowspan=\"4\" valign=\"top\">ACO</th>\n",
              "      <th>cfd</th>\n",
              "      <td>1102</td>\n",
              "      <td>40185.602750</td>\n",
              "      <td>36.466064</td>\n",
              "    </tr>\n",
              "    <tr>\n",
              "      <th>crypto</th>\n",
              "      <td>307</td>\n",
              "      <td>-8043.085750</td>\n",
              "      <td>-26.198976</td>\n",
              "    </tr>\n",
              "    <tr>\n",
              "      <th>digital-option</th>\n",
              "      <td>50542</td>\n",
              "      <td>-52665.073683</td>\n",
              "      <td>-1.042006</td>\n",
              "    </tr>\n",
              "    <tr>\n",
              "      <th>forex</th>\n",
              "      <td>4556</td>\n",
              "      <td>-11573.423228</td>\n",
              "      <td>-2.540260</td>\n",
              "    </tr>\n",
              "    <tr>\n",
              "      <th rowspan=\"4\" valign=\"top\">Africa</th>\n",
              "      <th>cfd</th>\n",
              "      <td>561</td>\n",
              "      <td>-2284.858577</td>\n",
              "      <td>-4.072832</td>\n",
              "    </tr>\n",
              "    <tr>\n",
              "      <th>crypto</th>\n",
              "      <td>161</td>\n",
              "      <td>-299.340998</td>\n",
              "      <td>-1.859261</td>\n",
              "    </tr>\n",
              "    <tr>\n",
              "      <th>digital-option</th>\n",
              "      <td>10323</td>\n",
              "      <td>-6000.789925</td>\n",
              "      <td>-0.581303</td>\n",
              "    </tr>\n",
              "    <tr>\n",
              "      <th>forex</th>\n",
              "      <td>1534</td>\n",
              "      <td>-1669.698830</td>\n",
              "      <td>-1.088461</td>\n",
              "    </tr>\n",
              "    <tr>\n",
              "      <th rowspan=\"4\" valign=\"top\">America (LATAM)</th>\n",
              "      <th>cfd</th>\n",
              "      <td>1705</td>\n",
              "      <td>-5449.562533</td>\n",
              "      <td>-3.196224</td>\n",
              "    </tr>\n",
              "    <tr>\n",
              "      <th>crypto</th>\n",
              "      <td>280</td>\n",
              "      <td>-2829.395943</td>\n",
              "      <td>-10.104986</td>\n",
              "    </tr>\n",
              "    <tr>\n",
              "      <th>digital-option</th>\n",
              "      <td>117111</td>\n",
              "      <td>-64271.458910</td>\n",
              "      <td>-0.548808</td>\n",
              "    </tr>\n",
              "    <tr>\n",
              "      <th>forex</th>\n",
              "      <td>6436</td>\n",
              "      <td>-197.932887</td>\n",
              "      <td>-0.030754</td>\n",
              "    </tr>\n",
              "    <tr>\n",
              "      <th rowspan=\"3\" valign=\"top\">China</th>\n",
              "      <th>cfd</th>\n",
              "      <td>5</td>\n",
              "      <td>4.534198</td>\n",
              "      <td>0.906840</td>\n",
              "    </tr>\n",
              "    <tr>\n",
              "      <th>digital-option</th>\n",
              "      <td>1206</td>\n",
              "      <td>394.984320</td>\n",
              "      <td>0.327516</td>\n",
              "    </tr>\n",
              "    <tr>\n",
              "      <th>forex</th>\n",
              "      <td>35</td>\n",
              "      <td>-1033.668637</td>\n",
              "      <td>-29.533390</td>\n",
              "    </tr>\n",
              "    <tr>\n",
              "      <th rowspan=\"4\" valign=\"top\">Non-reg Europe</th>\n",
              "      <th>cfd</th>\n",
              "      <td>159</td>\n",
              "      <td>-2951.436795</td>\n",
              "      <td>-18.562496</td>\n",
              "    </tr>\n",
              "    <tr>\n",
              "      <th>crypto</th>\n",
              "      <td>16</td>\n",
              "      <td>55.225020</td>\n",
              "      <td>3.451564</td>\n",
              "    </tr>\n",
              "    <tr>\n",
              "      <th>digital-option</th>\n",
              "      <td>805</td>\n",
              "      <td>-2716.098447</td>\n",
              "      <td>-3.374035</td>\n",
              "    </tr>\n",
              "    <tr>\n",
              "      <th>forex</th>\n",
              "      <td>158</td>\n",
              "      <td>648.456275</td>\n",
              "      <td>4.104154</td>\n",
              "    </tr>\n",
              "    <tr>\n",
              "      <th rowspan=\"5\" valign=\"top\">Reg Europe</th>\n",
              "      <th>cfd</th>\n",
              "      <td>758</td>\n",
              "      <td>-2879.883768</td>\n",
              "      <td>-3.799319</td>\n",
              "    </tr>\n",
              "    <tr>\n",
              "      <th>crypto</th>\n",
              "      <td>76</td>\n",
              "      <td>-33524.632802</td>\n",
              "      <td>-441.113589</td>\n",
              "    </tr>\n",
              "    <tr>\n",
              "      <th>digital-option</th>\n",
              "      <td>389</td>\n",
              "      <td>-3570.910635</td>\n",
              "      <td>-9.179719</td>\n",
              "    </tr>\n",
              "    <tr>\n",
              "      <th>forex</th>\n",
              "      <td>1384</td>\n",
              "      <td>-3412.959900</td>\n",
              "      <td>-2.466011</td>\n",
              "    </tr>\n",
              "    <tr>\n",
              "      <th>fx-option</th>\n",
              "      <td>391</td>\n",
              "      <td>-1787.165257</td>\n",
              "      <td>-4.570755</td>\n",
              "    </tr>\n",
              "  </tbody>\n",
              "</table>\n",
              "</div>\n",
              "      <button class=\"colab-df-convert\" onclick=\"convertToInteractive('df-6e2ea9fb-85aa-4509-9ef6-239155f345ee')\"\n",
              "              title=\"Convert this dataframe to an interactive table.\"\n",
              "              style=\"display:none;\">\n",
              "        \n",
              "  <svg xmlns=\"http://www.w3.org/2000/svg\" height=\"24px\"viewBox=\"0 0 24 24\"\n",
              "       width=\"24px\">\n",
              "    <path d=\"M0 0h24v24H0V0z\" fill=\"none\"/>\n",
              "    <path d=\"M18.56 5.44l.94 2.06.94-2.06 2.06-.94-2.06-.94-.94-2.06-.94 2.06-2.06.94zm-11 1L8.5 8.5l.94-2.06 2.06-.94-2.06-.94L8.5 2.5l-.94 2.06-2.06.94zm10 10l.94 2.06.94-2.06 2.06-.94-2.06-.94-.94-2.06-.94 2.06-2.06.94z\"/><path d=\"M17.41 7.96l-1.37-1.37c-.4-.4-.92-.59-1.43-.59-.52 0-1.04.2-1.43.59L10.3 9.45l-7.72 7.72c-.78.78-.78 2.05 0 2.83L4 21.41c.39.39.9.59 1.41.59.51 0 1.02-.2 1.41-.59l7.78-7.78 2.81-2.81c.8-.78.8-2.07 0-2.86zM5.41 20L4 18.59l7.72-7.72 1.47 1.35L5.41 20z\"/>\n",
              "  </svg>\n",
              "      </button>\n",
              "      \n",
              "  <style>\n",
              "    .colab-df-container {\n",
              "      display:flex;\n",
              "      flex-wrap:wrap;\n",
              "      gap: 12px;\n",
              "    }\n",
              "\n",
              "    .colab-df-convert {\n",
              "      background-color: #E8F0FE;\n",
              "      border: none;\n",
              "      border-radius: 50%;\n",
              "      cursor: pointer;\n",
              "      display: none;\n",
              "      fill: #1967D2;\n",
              "      height: 32px;\n",
              "      padding: 0 0 0 0;\n",
              "      width: 32px;\n",
              "    }\n",
              "\n",
              "    .colab-df-convert:hover {\n",
              "      background-color: #E2EBFA;\n",
              "      box-shadow: 0px 1px 2px rgba(60, 64, 67, 0.3), 0px 1px 3px 1px rgba(60, 64, 67, 0.15);\n",
              "      fill: #174EA6;\n",
              "    }\n",
              "\n",
              "    [theme=dark] .colab-df-convert {\n",
              "      background-color: #3B4455;\n",
              "      fill: #D2E3FC;\n",
              "    }\n",
              "\n",
              "    [theme=dark] .colab-df-convert:hover {\n",
              "      background-color: #434B5C;\n",
              "      box-shadow: 0px 1px 3px 1px rgba(0, 0, 0, 0.15);\n",
              "      filter: drop-shadow(0px 1px 2px rgba(0, 0, 0, 0.3));\n",
              "      fill: #FFFFFF;\n",
              "    }\n",
              "  </style>\n",
              "\n",
              "      <script>\n",
              "        const buttonEl =\n",
              "          document.querySelector('#df-6e2ea9fb-85aa-4509-9ef6-239155f345ee button.colab-df-convert');\n",
              "        buttonEl.style.display =\n",
              "          google.colab.kernel.accessAllowed ? 'block' : 'none';\n",
              "\n",
              "        async function convertToInteractive(key) {\n",
              "          const element = document.querySelector('#df-6e2ea9fb-85aa-4509-9ef6-239155f345ee');\n",
              "          const dataTable =\n",
              "            await google.colab.kernel.invokeFunction('convertToInteractive',\n",
              "                                                     [key], {});\n",
              "          if (!dataTable) return;\n",
              "\n",
              "          const docLinkHtml = 'Like what you see? Visit the ' +\n",
              "            '<a target=\"_blank\" href=https://colab.research.google.com/notebooks/data_table.ipynb>data table notebook</a>'\n",
              "            + ' to learn more about interactive tables.';\n",
              "          element.innerHTML = '';\n",
              "          dataTable['output_type'] = 'display_data';\n",
              "          await google.colab.output.renderOutput(dataTable, element);\n",
              "          const docLink = document.createElement('div');\n",
              "          docLink.innerHTML = docLinkHtml;\n",
              "          element.appendChild(docLink);\n",
              "        }\n",
              "      </script>\n",
              "    </div>\n",
              "  </div>\n",
              "  "
            ]
          },
          "metadata": {},
          "execution_count": 14
        }
      ]
    },
    {
      "cell_type": "markdown",
      "source": [
        "**Insight 2** - in all regions digital options are the most used instrument, except Reg Europe, where forex is used the most.\n",
        "\n",
        "**Insight 3** - regions differ in instruments profitability, for instance, cfd is unprofitable (negative pnl) in 4 regions and profitable (positive pnl) in 2 regions. Crypto stands out in Reg Europe because it is extremely unprofitable in this region."
      ],
      "metadata": {
        "id": "1MB2wrmaGL5N"
      }
    },
    {
      "cell_type": "code",
      "source": [
        "# check what are the most popular and the most profitable assets by region\n",
        "d2 = df.groupby(['region', 'asset']).agg({'user_id' : 'count', 'pnl' : 'sum'})\n",
        "d2['average_profitability'] = d2['pnl'] / d2['user_id']\n",
        "d2['user_id'].nlargest(10).plot.bar();"
      ],
      "metadata": {
        "colab": {
          "base_uri": "https://localhost:8080/",
          "height": 435
        },
        "id": "RzMRC1aTJnvi",
        "outputId": "4129abb6-c75a-4d79-c97a-6ad44f976cc2"
      },
      "execution_count": null,
      "outputs": [
        {
          "output_type": "display_data",
          "data": {
            "text/plain": [
              "<Figure size 432x288 with 1 Axes>"
            ],
            "image/png": "[encoded data removed]"
          },
          "metadata": {
            "needs_background": "light"
          }
        }
      ]
    },
    {
      "cell_type": "code",
      "source": [
        "d2['average_profitability'].nlargest(10).plot.bar();"
      ],
      "metadata": {
        "colab": {
          "base_uri": "https://localhost:8080/",
          "height": 427
        },
        "id": "qoflVeWUV_UQ",
        "outputId": "ad11d047-59b2-4fd3-acae-4fe625c8537f"
      },
      "execution_count": null,
      "outputs": [
        {
          "output_type": "display_data",
          "data": {
            "text/plain": [
              "<Figure size 432x288 with 1 Axes>"
            ],
            "image/png": "[encoded data removed]"
          },
          "metadata": {
            "needs_background": "light"
          }
        }
      ]
    },
    {
      "cell_type": "markdown",
      "source": [
        "**Insight 4** - the most used assets and the most profitable assets are different. Also America (LATAM) and ACO are two regions that make deals the most, while top-10 assets by profitability are also in Reg Europe."
      ],
      "metadata": {
        "id": "Y534mRnPIZjP"
      }
    },
    {
      "cell_type": "code",
      "source": [
        "# check when users from different regions have registered\n",
        "df['user_registration_year'] = df['user_registration_time'].dt.year\n",
        "df.drop_duplicates(['user_id']).groupby(['region', 'user_registration_year']). \\\n",
        "  agg(users_registered=('user_registration_year', 'count'))"
      ],
      "metadata": {
        "colab": {
          "base_uri": "https://localhost:8080/",
          "height": 1000
        },
        "id": "bSYJcJbjJHVm",
        "outputId": "dfb55014-6e4d-4f6a-bb4b-3bdedefc0b24"
      },
      "execution_count": null,
      "outputs": [
        {
          "output_type": "execute_result",
          "data": {
            "text/plain": [
              "                                        users_registered\n",
              "region          user_registration_year                  \n",
              "ACO             2013                                   1\n",
              "                2014                                  48\n",
              "                2015                                 205\n",
              "                2016                                 653\n",
              "                2017                                2022\n",
              "                2018                                1723\n",
              "                2019                                3756\n",
              "                2020                                7821\n",
              "Africa          2014                                   1\n",
              "                2015                                  23\n",
              "                2016                                 248\n",
              "                2017                                 553\n",
              "                2018                                 489\n",
              "                2019                                1037\n",
              "                2020                                2435\n",
              "America (LATAM) 2014                                  39\n",
              "                2015                                 178\n",
              "                2016                                 947\n",
              "                2017                                2283\n",
              "                2018                                2997\n",
              "                2019                               14151\n",
              "                2020                               39921\n",
              "China           2015                                   1\n",
              "                2016                                   4\n",
              "                2017                                  25\n",
              "                2018                                  33\n",
              "                2019                                  71\n",
              "                2020                                  66\n",
              "Non-reg Europe  2015                                  12\n",
              "                2016                                  23\n",
              "                2017                                  62\n",
              "                2018                                  38\n",
              "                2019                                  35\n",
              "                2020                                 132\n",
              "Reg Europe      2014                                  10\n",
              "                2015                                  47\n",
              "                2016                                 174\n",
              "                2017                                 268\n",
              "                2018                                 180\n",
              "                2019                                 204\n",
              "                2020                                 607"
            ],
            "text/html": [
              "\n",
              "  <div id=\"df-2c2232fb-f2a7-4ff4-835a-d36d7b1a6509\">\n",
              "    <div class=\"colab-df-container\">\n",
              "      <div>\n",
              "<style scoped>\n",
              "    .dataframe tbody tr th:only-of-type {\n",
              "        vertical-align: middle;\n",
              "    }\n",
              "\n",
              "    .dataframe tbody tr th {\n",
              "        vertical-align: top;\n",
              "    }\n",
              "\n",
              "    .dataframe thead th {\n",
              "        text-align: right;\n",
              "    }\n",
              "</style>\n",
              "<table border=\"1\" class=\"dataframe\">\n",
              "  <thead>\n",
              "    <tr style=\"text-align: right;\">\n",
              "      <th></th>\n",
              "      <th></th>\n",
              "      <th>users_registered</th>\n",
              "    </tr>\n",
              "    <tr>\n",
              "      <th>region</th>\n",
              "      <th>user_registration_year</th>\n",
              "      <th></th>\n",
              "    </tr>\n",
              "  </thead>\n",
              "  <tbody>\n",
              "    <tr>\n",
              "      <th rowspan=\"8\" valign=\"top\">ACO</th>\n",
              "      <th>2013</th>\n",
              "      <td>1</td>\n",
              "    </tr>\n",
              "    <tr>\n",
              "      <th>2014</th>\n",
              "      <td>48</td>\n",
              "    </tr>\n",
              "    <tr>\n",
              "      <th>2015</th>\n",
              "      <td>205</td>\n",
              "    </tr>\n",
              "    <tr>\n",
              "      <th>2016</th>\n",
              "      <td>653</td>\n",
              "    </tr>\n",
              "    <tr>\n",
              "      <th>2017</th>\n",
              "      <td>2022</td>\n",
              "    </tr>\n",
              "    <tr>\n",
              "      <th>2018</th>\n",
              "      <td>1723</td>\n",
              "    </tr>\n",
              "    <tr>\n",
              "      <th>2019</th>\n",
              "      <td>3756</td>\n",
              "    </tr>\n",
              "    <tr>\n",
              "      <th>2020</th>\n",
              "      <td>7821</td>\n",
              "    </tr>\n",
              "    <tr>\n",
              "      <th rowspan=\"7\" valign=\"top\">Africa</th>\n",
              "      <th>2014</th>\n",
              "      <td>1</td>\n",
              "    </tr>\n",
              "    <tr>\n",
              "      <th>2015</th>\n",
              "      <td>23</td>\n",
              "    </tr>\n",
              "    <tr>\n",
              "      <th>2016</th>\n",
              "      <td>248</td>\n",
              "    </tr>\n",
              "    <tr>\n",
              "      <th>2017</th>\n",
              "      <td>553</td>\n",
              "    </tr>\n",
              "    <tr>\n",
              "      <th>2018</th>\n",
              "      <td>489</td>\n",
              "    </tr>\n",
              "    <tr>\n",
              "      <th>2019</th>\n",
              "      <td>1037</td>\n",
              "    </tr>\n",
              "    <tr>\n",
              "      <th>2020</th>\n",
              "      <td>2435</td>\n",
              "    </tr>\n",
              "    <tr>\n",
              "      <th rowspan=\"7\" valign=\"top\">America (LATAM)</th>\n",
              "      <th>2014</th>\n",
              "      <td>39</td>\n",
              "    </tr>\n",
              "    <tr>\n",
              "      <th>2015</th>\n",
              "      <td>178</td>\n",
              "    </tr>\n",
              "    <tr>\n",
              "      <th>2016</th>\n",
              "      <td>947</td>\n",
              "    </tr>\n",
              "    <tr>\n",
              "      <th>2017</th>\n",
              "      <td>2283</td>\n",
              "    </tr>\n",
              "    <tr>\n",
              "      <th>2018</th>\n",
              "      <td>2997</td>\n",
              "    </tr>\n",
              "    <tr>\n",
              "      <th>2019</th>\n",
              "      <td>14151</td>\n",
              "    </tr>\n",
              "    <tr>\n",
              "      <th>2020</th>\n",
              "      <td>39921</td>\n",
              "    </tr>\n",
              "    <tr>\n",
              "      <th rowspan=\"6\" valign=\"top\">China</th>\n",
              "      <th>2015</th>\n",
              "      <td>1</td>\n",
              "    </tr>\n",
              "    <tr>\n",
              "      <th>2016</th>\n",
              "      <td>4</td>\n",
              "    </tr>\n",
              "    <tr>\n",
              "      <th>2017</th>\n",
              "      <td>25</td>\n",
              "    </tr>\n",
              "    <tr>\n",
              "      <th>2018</th>\n",
              "      <td>33</td>\n",
              "    </tr>\n",
              "    <tr>\n",
              "      <th>2019</th>\n",
              "      <td>71</td>\n",
              "    </tr>\n",
              "    <tr>\n",
              "      <th>2020</th>\n",
              "      <td>66</td>\n",
              "    </tr>\n",
              "    <tr>\n",
              "      <th rowspan=\"6\" valign=\"top\">Non-reg Europe</th>\n",
              "      <th>2015</th>\n",
              "      <td>12</td>\n",
              "    </tr>\n",
              "    <tr>\n",
              "      <th>2016</th>\n",
              "      <td>23</td>\n",
              "    </tr>\n",
              "    <tr>\n",
              "      <th>2017</th>\n",
              "      <td>62</td>\n",
              "    </tr>\n",
              "    <tr>\n",
              "      <th>2018</th>\n",
              "      <td>38</td>\n",
              "    </tr>\n",
              "    <tr>\n",
              "      <th>2019</th>\n",
              "      <td>35</td>\n",
              "    </tr>\n",
              "    <tr>\n",
              "      <th>2020</th>\n",
              "      <td>132</td>\n",
              "    </tr>\n",
              "    <tr>\n",
              "      <th rowspan=\"7\" valign=\"top\">Reg Europe</th>\n",
              "      <th>2014</th>\n",
              "      <td>10</td>\n",
              "    </tr>\n",
              "    <tr>\n",
              "      <th>2015</th>\n",
              "      <td>47</td>\n",
              "    </tr>\n",
              "    <tr>\n",
              "      <th>2016</th>\n",
              "      <td>174</td>\n",
              "    </tr>\n",
              "    <tr>\n",
              "      <th>2017</th>\n",
              "      <td>268</td>\n",
              "    </tr>\n",
              "    <tr>\n",
              "      <th>2018</th>\n",
              "      <td>180</td>\n",
              "    </tr>\n",
              "    <tr>\n",
              "      <th>2019</th>\n",
              "      <td>204</td>\n",
              "    </tr>\n",
              "    <tr>\n",
              "      <th>2020</th>\n",
              "      <td>607</td>\n",
              "    </tr>\n",
              "  </tbody>\n",
              "</table>\n",
              "</div>\n",
              "      <button class=\"colab-df-convert\" onclick=\"convertToInteractive('df-2c2232fb-f2a7-4ff4-835a-d36d7b1a6509')\"\n",
              "              title=\"Convert this dataframe to an interactive table.\"\n",
              "              style=\"display:none;\">\n",
              "        \n",
              "  <svg xmlns=\"http://www.w3.org/2000/svg\" height=\"24px\"viewBox=\"0 0 24 24\"\n",
              "       width=\"24px\">\n",
              "    <path d=\"M0 0h24v24H0V0z\" fill=\"none\"/>\n",
              "    <path d=\"M18.56 5.44l.94 2.06.94-2.06 2.06-.94-2.06-.94-.94-2.06-.94 2.06-2.06.94zm-11 1L8.5 8.5l.94-2.06 2.06-.94-2.06-.94L8.5 2.5l-.94 2.06-2.06.94zm10 10l.94 2.06.94-2.06 2.06-.94-2.06-.94-.94-2.06-.94 2.06-2.06.94z\"/><path d=\"M17.41 7.96l-1.37-1.37c-.4-.4-.92-.59-1.43-.59-.52 0-1.04.2-1.43.59L10.3 9.45l-7.72 7.72c-.78.78-.78 2.05 0 2.83L4 21.41c.39.39.9.59 1.41.59.51 0 1.02-.2 1.41-.59l7.78-7.78 2.81-2.81c.8-.78.8-2.07 0-2.86zM5.41 20L4 18.59l7.72-7.72 1.47 1.35L5.41 20z\"/>\n",
              "  </svg>\n",
              "      </button>\n",
              "      \n",
              "  <style>\n",
              "    .colab-df-container {\n",
              "      display:flex;\n",
              "      flex-wrap:wrap;\n",
              "      gap: 12px;\n",
              "    }\n",
              "\n",
              "    .colab-df-convert {\n",
              "      background-color: #E8F0FE;\n",
              "      border: none;\n",
              "      border-radius: 50%;\n",
              "      cursor: pointer;\n",
              "      display: none;\n",
              "      fill: #1967D2;\n",
              "      height: 32px;\n",
              "      padding: 0 0 0 0;\n",
              "      width: 32px;\n",
              "    }\n",
              "\n",
              "    .colab-df-convert:hover {\n",
              "      background-color: #E2EBFA;\n",
              "      box-shadow: 0px 1px 2px rgba(60, 64, 67, 0.3), 0px 1px 3px 1px rgba(60, 64, 67, 0.15);\n",
              "      fill: #174EA6;\n",
              "    }\n",
              "\n",
              "    [theme=dark] .colab-df-convert {\n",
              "      background-color: #3B4455;\n",
              "      fill: #D2E3FC;\n",
              "    }\n",
              "\n",
              "    [theme=dark] .colab-df-convert:hover {\n",
              "      background-color: #434B5C;\n",
              "      box-shadow: 0px 1px 3px 1px rgba(0, 0, 0, 0.15);\n",
              "      filter: drop-shadow(0px 1px 2px rgba(0, 0, 0, 0.3));\n",
              "      fill: #FFFFFF;\n",
              "    }\n",
              "  </style>\n",
              "\n",
              "      <script>\n",
              "        const buttonEl =\n",
              "          document.querySelector('#df-2c2232fb-f2a7-4ff4-835a-d36d7b1a6509 button.colab-df-convert');\n",
              "        buttonEl.style.display =\n",
              "          google.colab.kernel.accessAllowed ? 'block' : 'none';\n",
              "\n",
              "        async function convertToInteractive(key) {\n",
              "          const element = document.querySelector('#df-2c2232fb-f2a7-4ff4-835a-d36d7b1a6509');\n",
              "          const dataTable =\n",
              "            await google.colab.kernel.invokeFunction('convertToInteractive',\n",
              "                                                     [key], {});\n",
              "          if (!dataTable) return;\n",
              "\n",
              "          const docLinkHtml = 'Like what you see? Visit the ' +\n",
              "            '<a target=\"_blank\" href=https://colab.research.google.com/notebooks/data_table.ipynb>data table notebook</a>'\n",
              "            + ' to learn more about interactive tables.';\n",
              "          element.innerHTML = '';\n",
              "          dataTable['output_type'] = 'display_data';\n",
              "          await google.colab.output.renderOutput(dataTable, element);\n",
              "          const docLink = document.createElement('div');\n",
              "          docLink.innerHTML = docLinkHtml;\n",
              "          element.appendChild(docLink);\n",
              "        }\n",
              "      </script>\n",
              "    </div>\n",
              "  </div>\n",
              "  "
            ]
          },
          "metadata": {},
          "execution_count": 17
        }
      ]
    },
    {
      "cell_type": "markdown",
      "source": [
        "**Insight 5** - in magority of regions trading platform becomes more popular with time because the amount of registrations is gradually increasing. However, in China registration peak was in 2019 and in 2020 the amount of registrations is decreasing. Also the rate at which the platform is gaining popularity varies by region, with the fastest new users growth in America (LATAM), ACO and Africa and the slowest growth in China, Non-reg Europe and Reg Europe."
      ],
      "metadata": {
        "id": "6yu577a5MPDt"
      }
    },
    {
      "cell_type": "code",
      "source": [
        "# check at what day of week users create deals in different regions\n",
        "df['deal_create_weekday'] = df['deal_create_time'].dt.day_name()\n",
        "df.groupby(['region', 'deal_create_weekday'])['deal_create_weekday'].count()"
      ],
      "metadata": {
        "colab": {
          "base_uri": "https://localhost:8080/"
        },
        "id": "GlbcNO2TM-yd",
        "outputId": "0f5fe7fc-7f25-48b3-9fec-3e5d5a8fffd1"
      },
      "execution_count": null,
      "outputs": [
        {
          "output_type": "execute_result",
          "data": {
            "text/plain": [
              "region           deal_create_weekday\n",
              "ACO              Friday                  5508\n",
              "                 Monday                 10462\n",
              "                 Saturday                6523\n",
              "                 Sunday                  8918\n",
              "                 Thursday                7615\n",
              "                 Tuesday                10068\n",
              "                 Wednesday               7413\n",
              "Africa           Friday                  1176\n",
              "                 Monday                  2542\n",
              "                 Saturday                1417\n",
              "                 Sunday                  1586\n",
              "                 Thursday                1455\n",
              "                 Tuesday                 2598\n",
              "                 Wednesday               1805\n",
              "America (LATAM)  Friday                 21983\n",
              "                 Monday                 16722\n",
              "                 Saturday               11374\n",
              "                 Sunday                 16575\n",
              "                 Thursday               17137\n",
              "                 Tuesday                18399\n",
              "                 Wednesday              23342\n",
              "China            Friday                   111\n",
              "                 Monday                   189\n",
              "                 Saturday                 135\n",
              "                 Sunday                   246\n",
              "                 Thursday                 120\n",
              "                 Tuesday                  335\n",
              "                 Wednesday                110\n",
              "Non-reg Europe   Friday                   134\n",
              "                 Monday                   208\n",
              "                 Saturday                  97\n",
              "                 Sunday                   108\n",
              "                 Thursday                 169\n",
              "                 Tuesday                  305\n",
              "                 Wednesday                117\n",
              "Reg Europe       Friday                   453\n",
              "                 Monday                   854\n",
              "                 Saturday                   7\n",
              "                 Sunday                    20\n",
              "                 Thursday                 499\n",
              "                 Tuesday                  738\n",
              "                 Wednesday                427\n",
              "Name: deal_create_weekday, dtype: int64"
            ]
          },
          "metadata": {},
          "execution_count": 18
        }
      ]
    },
    {
      "cell_type": "markdown",
      "source": [
        "**Insight 6** - overall Monday and Tuesday are the most popular days to create deals. America (LATAM) differs because there more deals are created at Wednesday and Friday. "
      ],
      "metadata": {
        "id": "nJb21fo1SLDU"
      }
    },
    {
      "cell_type": "code",
      "source": [
        "# check at what day of week users close deals in different regions\n",
        "df['deal_close_weekday'] = df['deal_close_time'].dt.day_name()\n",
        "df.groupby(['region', 'deal_close_weekday'])['deal_close_weekday'].count()"
      ],
      "metadata": {
        "colab": {
          "base_uri": "https://localhost:8080/"
        },
        "id": "wbq3y5SVS6uK",
        "outputId": "4034fdae-1d07-4c13-b8b1-5159fda096da"
      },
      "execution_count": null,
      "outputs": [
        {
          "output_type": "execute_result",
          "data": {
            "text/plain": [
              "region           deal_close_weekday\n",
              "ACO              Friday                 5570\n",
              "                 Monday                10412\n",
              "                 Saturday               6513\n",
              "                 Sunday                 8912\n",
              "                 Thursday               7530\n",
              "                 Tuesday               10212\n",
              "                 Wednesday              7358\n",
              "Africa           Friday                 1212\n",
              "                 Monday                 2465\n",
              "                 Saturday               1411\n",
              "                 Sunday                 1589\n",
              "                 Thursday               1454\n",
              "                 Tuesday                2682\n",
              "                 Wednesday              1766\n",
              "America (LATAM)  Friday                22073\n",
              "                 Monday                16650\n",
              "                 Saturday              11371\n",
              "                 Sunday                16558\n",
              "                 Thursday              17041\n",
              "                 Tuesday               18555\n",
              "                 Wednesday             23284\n",
              "China            Friday                  111\n",
              "                 Monday                  190\n",
              "                 Saturday                135\n",
              "                 Sunday                  246\n",
              "                 Thursday                120\n",
              "                 Tuesday                 335\n",
              "                 Wednesday               109\n",
              "Non-reg Europe   Friday                  135\n",
              "                 Monday                  216\n",
              "                 Saturday                 94\n",
              "                 Sunday                  110\n",
              "                 Thursday                174\n",
              "                 Tuesday                 313\n",
              "                 Wednesday                96\n",
              "Reg Europe       Friday                  413\n",
              "                 Monday                  801\n",
              "                 Saturday                  5\n",
              "                 Sunday                   18\n",
              "                 Thursday                476\n",
              "                 Tuesday                 871\n",
              "                 Wednesday               414\n",
              "Name: deal_close_weekday, dtype: int64"
            ]
          },
          "metadata": {},
          "execution_count": 19
        }
      ]
    },
    {
      "cell_type": "markdown",
      "source": [
        "**Insight 7** - with the closure of deals there is the same situation as with creation: in America (LATAM) the most deals are closed at Wednesday and Friday, in other regions at Monday and Tuesday."
      ],
      "metadata": {
        "id": "XhSL0K5HTLDL"
      }
    },
    {
      "cell_type": "code",
      "source": [
        "# check correlation between deals creature and slosure weekdays by regions\n",
        "df.groupby(['region', 'deal_close_weekday'])['deal_close_weekday'].count(). \\\n",
        "  corr(df.groupby(['region', 'deal_create_weekday'])['deal_create_weekday'].count())"
      ],
      "metadata": {
        "colab": {
          "base_uri": "https://localhost:8080/"
        },
        "id": "WgyEja1McrJn",
        "outputId": "0f45a62e-7bc2-4cb5-e73a-8914b5313893"
      },
      "execution_count": null,
      "outputs": [
        {
          "output_type": "execute_result",
          "data": {
            "text/plain": [
              "0.9999664692231046"
            ]
          },
          "metadata": {},
          "execution_count": 20
        }
      ]
    },
    {
      "cell_type": "markdown",
      "source": [
        "## **Behavior differences depending on platform**\n",
        "\n",
        "Steps for comparison are the same as in grouping by region"
      ],
      "metadata": {
        "id": "gCzHylZ02Iwb"
      }
    },
    {
      "cell_type": "code",
      "source": [
        "# look at unique platforms\n",
        "df.deal_platform.unique()"
      ],
      "metadata": {
        "colab": {
          "base_uri": "https://localhost:8080/"
        },
        "id": "5GCzgLht0nVx",
        "outputId": "bd676130-13d0-43d3-d006-8f1ad626b65c"
      },
      "execution_count": null,
      "outputs": [
        {
          "output_type": "execute_result",
          "data": {
            "text/plain": [
              "array(['Android', 'Web', 'iOS', 'Web_mobile'], dtype=object)"
            ]
          },
          "metadata": {},
          "execution_count": 21
        }
      ]
    },
    {
      "cell_type": "code",
      "source": [
        "# check how many deals are made with each platform\n",
        "df.groupby('deal_platform')['user_id'].count().plot.bar();"
      ],
      "metadata": {
        "id": "ilp2bdey13kH",
        "colab": {
          "base_uri": "https://localhost:8080/",
          "height": 331
        },
        "outputId": "49e55c10-2491-4241-e05d-fa62032ad93b"
      },
      "execution_count": null,
      "outputs": [
        {
          "output_type": "display_data",
          "data": {
            "text/plain": [
              "<Figure size 432x288 with 1 Axes>"
            ],
            "image/png": "[encoded data removed]"
          },
          "metadata": {
            "needs_background": "light"
          }
        }
      ]
    },
    {
      "cell_type": "code",
      "source": [
        "# check how many users use each platform\n",
        "df.groupby('deal_platform')['user_id'].nunique().plot.bar();"
      ],
      "metadata": {
        "colab": {
          "base_uri": "https://localhost:8080/",
          "height": 331
        },
        "id": "qGSVmkMpT7Yx",
        "outputId": "85a1b5c9-17d7-4b92-e37c-27b06740cbec"
      },
      "execution_count": null,
      "outputs": [
        {
          "output_type": "display_data",
          "data": {
            "text/plain": [
              "<Figure size 432x288 with 1 Axes>"
            ],
            "image/png": "[encoded data removed]"
          },
          "metadata": {
            "needs_background": "light"
          }
        }
      ]
    },
    {
      "cell_type": "code",
      "source": [
        "# count average activity by platforms (total amount of deals / total amount of unique users)\n",
        "d3 = df.groupby('deal_platform')['user_id'].agg(['count', 'nunique'])\n",
        "d3['deals_per_user'] = d3['count'] / d3['nunique']\n",
        "d3"
      ],
      "metadata": {
        "colab": {
          "base_uri": "https://localhost:8080/",
          "height": 206
        },
        "id": "Zpsdv1gMUFff",
        "outputId": "8e560848-7bc2-4c94-8e48-fb4c4b1b836e"
      },
      "execution_count": null,
      "outputs": [
        {
          "output_type": "execute_result",
          "data": {
            "text/plain": [
              "                count  nunique  deals_per_user\n",
              "deal_platform                                 \n",
              "Android         73333    31910        2.298120\n",
              "Web            105908    47140        2.246669\n",
              "Web_mobile         81       54        1.500000\n",
              "iOS             20678     8350        2.476407"
            ],
            "text/html": [
              "\n",
              "  <div id=\"df-842e988b-67a0-4fd3-acee-8cfc8b59d1ac\">\n",
              "    <div class=\"colab-df-container\">\n",
              "      <div>\n",
              "<style scoped>\n",
              "    .dataframe tbody tr th:only-of-type {\n",
              "        vertical-align: middle;\n",
              "    }\n",
              "\n",
              "    .dataframe tbody tr th {\n",
              "        vertical-align: top;\n",
              "    }\n",
              "\n",
              "    .dataframe thead th {\n",
              "        text-align: right;\n",
              "    }\n",
              "</style>\n",
              "<table border=\"1\" class=\"dataframe\">\n",
              "  <thead>\n",
              "    <tr style=\"text-align: right;\">\n",
              "      <th></th>\n",
              "      <th>count</th>\n",
              "      <th>nunique</th>\n",
              "      <th>deals_per_user</th>\n",
              "    </tr>\n",
              "    <tr>\n",
              "      <th>deal_platform</th>\n",
              "      <th></th>\n",
              "      <th></th>\n",
              "      <th></th>\n",
              "    </tr>\n",
              "  </thead>\n",
              "  <tbody>\n",
              "    <tr>\n",
              "      <th>Android</th>\n",
              "      <td>73333</td>\n",
              "      <td>31910</td>\n",
              "      <td>2.298120</td>\n",
              "    </tr>\n",
              "    <tr>\n",
              "      <th>Web</th>\n",
              "      <td>105908</td>\n",
              "      <td>47140</td>\n",
              "      <td>2.246669</td>\n",
              "    </tr>\n",
              "    <tr>\n",
              "      <th>Web_mobile</th>\n",
              "      <td>81</td>\n",
              "      <td>54</td>\n",
              "      <td>1.500000</td>\n",
              "    </tr>\n",
              "    <tr>\n",
              "      <th>iOS</th>\n",
              "      <td>20678</td>\n",
              "      <td>8350</td>\n",
              "      <td>2.476407</td>\n",
              "    </tr>\n",
              "  </tbody>\n",
              "</table>\n",
              "</div>\n",
              "      <button class=\"colab-df-convert\" onclick=\"convertToInteractive('df-842e988b-67a0-4fd3-acee-8cfc8b59d1ac')\"\n",
              "              title=\"Convert this dataframe to an interactive table.\"\n",
              "              style=\"display:none;\">\n",
              "        \n",
              "  <svg xmlns=\"http://www.w3.org/2000/svg\" height=\"24px\"viewBox=\"0 0 24 24\"\n",
              "       width=\"24px\">\n",
              "    <path d=\"M0 0h24v24H0V0z\" fill=\"none\"/>\n",
              "    <path d=\"M18.56 5.44l.94 2.06.94-2.06 2.06-.94-2.06-.94-.94-2.06-.94 2.06-2.06.94zm-11 1L8.5 8.5l.94-2.06 2.06-.94-2.06-.94L8.5 2.5l-.94 2.06-2.06.94zm10 10l.94 2.06.94-2.06 2.06-.94-2.06-.94-.94-2.06-.94 2.06-2.06.94z\"/><path d=\"M17.41 7.96l-1.37-1.37c-.4-.4-.92-.59-1.43-.59-.52 0-1.04.2-1.43.59L10.3 9.45l-7.72 7.72c-.78.78-.78 2.05 0 2.83L4 21.41c.39.39.9.59 1.41.59.51 0 1.02-.2 1.41-.59l7.78-7.78 2.81-2.81c.8-.78.8-2.07 0-2.86zM5.41 20L4 18.59l7.72-7.72 1.47 1.35L5.41 20z\"/>\n",
              "  </svg>\n",
              "      </button>\n",
              "      \n",
              "  <style>\n",
              "    .colab-df-container {\n",
              "      display:flex;\n",
              "      flex-wrap:wrap;\n",
              "      gap: 12px;\n",
              "    }\n",
              "\n",
              "    .colab-df-convert {\n",
              "      background-color: #E8F0FE;\n",
              "      border: none;\n",
              "      border-radius: 50%;\n",
              "      cursor: pointer;\n",
              "      display: none;\n",
              "      fill: #1967D2;\n",
              "      height: 32px;\n",
              "      padding: 0 0 0 0;\n",
              "      width: 32px;\n",
              "    }\n",
              "\n",
              "    .colab-df-convert:hover {\n",
              "      background-color: #E2EBFA;\n",
              "      box-shadow: 0px 1px 2px rgba(60, 64, 67, 0.3), 0px 1px 3px 1px rgba(60, 64, 67, 0.15);\n",
              "      fill: #174EA6;\n",
              "    }\n",
              "\n",
              "    [theme=dark] .colab-df-convert {\n",
              "      background-color: #3B4455;\n",
              "      fill: #D2E3FC;\n",
              "    }\n",
              "\n",
              "    [theme=dark] .colab-df-convert:hover {\n",
              "      background-color: #434B5C;\n",
              "      box-shadow: 0px 1px 3px 1px rgba(0, 0, 0, 0.15);\n",
              "      filter: drop-shadow(0px 1px 2px rgba(0, 0, 0, 0.3));\n",
              "      fill: #FFFFFF;\n",
              "    }\n",
              "  </style>\n",
              "\n",
              "      <script>\n",
              "        const buttonEl =\n",
              "          document.querySelector('#df-842e988b-67a0-4fd3-acee-8cfc8b59d1ac button.colab-df-convert');\n",
              "        buttonEl.style.display =\n",
              "          google.colab.kernel.accessAllowed ? 'block' : 'none';\n",
              "\n",
              "        async function convertToInteractive(key) {\n",
              "          const element = document.querySelector('#df-842e988b-67a0-4fd3-acee-8cfc8b59d1ac');\n",
              "          const dataTable =\n",
              "            await google.colab.kernel.invokeFunction('convertToInteractive',\n",
              "                                                     [key], {});\n",
              "          if (!dataTable) return;\n",
              "\n",
              "          const docLinkHtml = 'Like what you see? Visit the ' +\n",
              "            '<a target=\"_blank\" href=https://colab.research.google.com/notebooks/data_table.ipynb>data table notebook</a>'\n",
              "            + ' to learn more about interactive tables.';\n",
              "          element.innerHTML = '';\n",
              "          dataTable['output_type'] = 'display_data';\n",
              "          await google.colab.output.renderOutput(dataTable, element);\n",
              "          const docLink = document.createElement('div');\n",
              "          docLink.innerHTML = docLinkHtml;\n",
              "          element.appendChild(docLink);\n",
              "        }\n",
              "      </script>\n",
              "    </div>\n",
              "  </div>\n",
              "  "
            ]
          },
          "metadata": {},
          "execution_count": 24
        }
      ]
    },
    {
      "cell_type": "markdown",
      "source": [
        "**Insight 8** - the least used platform is web_mobile. The most used platform is web (desktop, I assume). And the most active users are with iOS (application, probably) because average amount of deals per user is the highest in this platform. "
      ],
      "metadata": {
        "id": "tFK6YFofUj_T"
      }
    },
    {
      "cell_type": "code",
      "source": [
        "# check which insturment types are used with different platforms + their profitability\n",
        "d4 = df.groupby(['deal_platform', 'instrument_type']).agg({'user_id' : 'count', 'pnl' : 'sum'})\n",
        "d4['average profitability'] = d4['pnl'] / d4['user_id']\n",
        "d4"
      ],
      "metadata": {
        "colab": {
          "base_uri": "https://localhost:8080/",
          "height": 582
        },
        "id": "E_FHc8vLUfm-",
        "outputId": "5f6fb613-2a78-4dde-a743-a857b9546815"
      },
      "execution_count": null,
      "outputs": [
        {
          "output_type": "execute_result",
          "data": {
            "text/plain": [
              "                               user_id           pnl  average profitability\n",
              "deal_platform instrument_type                                              \n",
              "Android       cfd                 1296  -5049.459162              -3.896188\n",
              "              crypto               470   2110.312588               4.490027\n",
              "              digital-option     67723 -36581.530278              -0.540164\n",
              "              forex               3733 -16648.600753              -4.459845\n",
              "              fx-option            111  -3147.148530             -28.352689\n",
              "Web           cfd                 2454  34760.957587              14.165019\n",
              "              crypto               237 -43317.356285            -182.773655\n",
              "              digital-option     93800 -60630.229295              -0.646378\n",
              "              forex               9181   -362.791918              -0.039516\n",
              "              fx-option            236   2611.591690              11.066066\n",
              "Web_mobile    digital-option        81   1268.648283              15.662324\n",
              "iOS           cfd                  540  -3087.103150              -5.716858\n",
              "              crypto               133  -3434.186777             -25.820953\n",
              "              digital-option     18772 -32886.235990              -1.751877\n",
              "              forex               1189   -227.834535              -0.191619\n",
              "              fx-option             44  -1251.608417             -28.445646"
            ],
            "text/html": [
              "\n",
              "  <div id=\"df-5f9664c8-e66a-4330-ad39-661ce49c8e10\">\n",
              "    <div class=\"colab-df-container\">\n",
              "      <div>\n",
              "<style scoped>\n",
              "    .dataframe tbody tr th:only-of-type {\n",
              "        vertical-align: middle;\n",
              "    }\n",
              "\n",
              "    .dataframe tbody tr th {\n",
              "        vertical-align: top;\n",
              "    }\n",
              "\n",
              "    .dataframe thead th {\n",
              "        text-align: right;\n",
              "    }\n",
              "</style>\n",
              "<table border=\"1\" class=\"dataframe\">\n",
              "  <thead>\n",
              "    <tr style=\"text-align: right;\">\n",
              "      <th></th>\n",
              "      <th></th>\n",
              "      <th>user_id</th>\n",
              "      <th>pnl</th>\n",
              "      <th>average profitability</th>\n",
              "    </tr>\n",
              "    <tr>\n",
              "      <th>deal_platform</th>\n",
              "      <th>instrument_type</th>\n",
              "      <th></th>\n",
              "      <th></th>\n",
              "      <th></th>\n",
              "    </tr>\n",
              "  </thead>\n",
              "  <tbody>\n",
              "    <tr>\n",
              "      <th rowspan=\"5\" valign=\"top\">Android</th>\n",
              "      <th>cfd</th>\n",
              "      <td>1296</td>\n",
              "      <td>-5049.459162</td>\n",
              "      <td>-3.896188</td>\n",
              "    </tr>\n",
              "    <tr>\n",
              "      <th>crypto</th>\n",
              "      <td>470</td>\n",
              "      <td>2110.312588</td>\n",
              "      <td>4.490027</td>\n",
              "    </tr>\n",
              "    <tr>\n",
              "      <th>digital-option</th>\n",
              "      <td>67723</td>\n",
              "      <td>-36581.530278</td>\n",
              "      <td>-0.540164</td>\n",
              "    </tr>\n",
              "    <tr>\n",
              "      <th>forex</th>\n",
              "      <td>3733</td>\n",
              "      <td>-16648.600753</td>\n",
              "      <td>-4.459845</td>\n",
              "    </tr>\n",
              "    <tr>\n",
              "      <th>fx-option</th>\n",
              "      <td>111</td>\n",
              "      <td>-3147.148530</td>\n",
              "      <td>-28.352689</td>\n",
              "    </tr>\n",
              "    <tr>\n",
              "      <th rowspan=\"5\" valign=\"top\">Web</th>\n",
              "      <th>cfd</th>\n",
              "      <td>2454</td>\n",
              "      <td>34760.957587</td>\n",
              "      <td>14.165019</td>\n",
              "    </tr>\n",
              "    <tr>\n",
              "      <th>crypto</th>\n",
              "      <td>237</td>\n",
              "      <td>-43317.356285</td>\n",
              "      <td>-182.773655</td>\n",
              "    </tr>\n",
              "    <tr>\n",
              "      <th>digital-option</th>\n",
              "      <td>93800</td>\n",
              "      <td>-60630.229295</td>\n",
              "      <td>-0.646378</td>\n",
              "    </tr>\n",
              "    <tr>\n",
              "      <th>forex</th>\n",
              "      <td>9181</td>\n",
              "      <td>-362.791918</td>\n",
              "      <td>-0.039516</td>\n",
              "    </tr>\n",
              "    <tr>\n",
              "      <th>fx-option</th>\n",
              "      <td>236</td>\n",
              "      <td>2611.591690</td>\n",
              "      <td>11.066066</td>\n",
              "    </tr>\n",
              "    <tr>\n",
              "      <th>Web_mobile</th>\n",
              "      <th>digital-option</th>\n",
              "      <td>81</td>\n",
              "      <td>1268.648283</td>\n",
              "      <td>15.662324</td>\n",
              "    </tr>\n",
              "    <tr>\n",
              "      <th rowspan=\"5\" valign=\"top\">iOS</th>\n",
              "      <th>cfd</th>\n",
              "      <td>540</td>\n",
              "      <td>-3087.103150</td>\n",
              "      <td>-5.716858</td>\n",
              "    </tr>\n",
              "    <tr>\n",
              "      <th>crypto</th>\n",
              "      <td>133</td>\n",
              "      <td>-3434.186777</td>\n",
              "      <td>-25.820953</td>\n",
              "    </tr>\n",
              "    <tr>\n",
              "      <th>digital-option</th>\n",
              "      <td>18772</td>\n",
              "      <td>-32886.235990</td>\n",
              "      <td>-1.751877</td>\n",
              "    </tr>\n",
              "    <tr>\n",
              "      <th>forex</th>\n",
              "      <td>1189</td>\n",
              "      <td>-227.834535</td>\n",
              "      <td>-0.191619</td>\n",
              "    </tr>\n",
              "    <tr>\n",
              "      <th>fx-option</th>\n",
              "      <td>44</td>\n",
              "      <td>-1251.608417</td>\n",
              "      <td>-28.445646</td>\n",
              "    </tr>\n",
              "  </tbody>\n",
              "</table>\n",
              "</div>\n",
              "      <button class=\"colab-df-convert\" onclick=\"convertToInteractive('df-5f9664c8-e66a-4330-ad39-661ce49c8e10')\"\n",
              "              title=\"Convert this dataframe to an interactive table.\"\n",
              "              style=\"display:none;\">\n",
              "        \n",
              "  <svg xmlns=\"http://www.w3.org/2000/svg\" height=\"24px\"viewBox=\"0 0 24 24\"\n",
              "       width=\"24px\">\n",
              "    <path d=\"M0 0h24v24H0V0z\" fill=\"none\"/>\n",
              "    <path d=\"M18.56 5.44l.94 2.06.94-2.06 2.06-.94-2.06-.94-.94-2.06-.94 2.06-2.06.94zm-11 1L8.5 8.5l.94-2.06 2.06-.94-2.06-.94L8.5 2.5l-.94 2.06-2.06.94zm10 10l.94 2.06.94-2.06 2.06-.94-2.06-.94-.94-2.06-.94 2.06-2.06.94z\"/><path d=\"M17.41 7.96l-1.37-1.37c-.4-.4-.92-.59-1.43-.59-.52 0-1.04.2-1.43.59L10.3 9.45l-7.72 7.72c-.78.78-.78 2.05 0 2.83L4 21.41c.39.39.9.59 1.41.59.51 0 1.02-.2 1.41-.59l7.78-7.78 2.81-2.81c.8-.78.8-2.07 0-2.86zM5.41 20L4 18.59l7.72-7.72 1.47 1.35L5.41 20z\"/>\n",
              "  </svg>\n",
              "      </button>\n",
              "      \n",
              "  <style>\n",
              "    .colab-df-container {\n",
              "      display:flex;\n",
              "      flex-wrap:wrap;\n",
              "      gap: 12px;\n",
              "    }\n",
              "\n",
              "    .colab-df-convert {\n",
              "      background-color: #E8F0FE;\n",
              "      border: none;\n",
              "      border-radius: 50%;\n",
              "      cursor: pointer;\n",
              "      display: none;\n",
              "      fill: #1967D2;\n",
              "      height: 32px;\n",
              "      padding: 0 0 0 0;\n",
              "      width: 32px;\n",
              "    }\n",
              "\n",
              "    .colab-df-convert:hover {\n",
              "      background-color: #E2EBFA;\n",
              "      box-shadow: 0px 1px 2px rgba(60, 64, 67, 0.3), 0px 1px 3px 1px rgba(60, 64, 67, 0.15);\n",
              "      fill: #174EA6;\n",
              "    }\n",
              "\n",
              "    [theme=dark] .colab-df-convert {\n",
              "      background-color: #3B4455;\n",
              "      fill: #D2E3FC;\n",
              "    }\n",
              "\n",
              "    [theme=dark] .colab-df-convert:hover {\n",
              "      background-color: #434B5C;\n",
              "      box-shadow: 0px 1px 3px 1px rgba(0, 0, 0, 0.15);\n",
              "      filter: drop-shadow(0px 1px 2px rgba(0, 0, 0, 0.3));\n",
              "      fill: #FFFFFF;\n",
              "    }\n",
              "  </style>\n",
              "\n",
              "      <script>\n",
              "        const buttonEl =\n",
              "          document.querySelector('#df-5f9664c8-e66a-4330-ad39-661ce49c8e10 button.colab-df-convert');\n",
              "        buttonEl.style.display =\n",
              "          google.colab.kernel.accessAllowed ? 'block' : 'none';\n",
              "\n",
              "        async function convertToInteractive(key) {\n",
              "          const element = document.querySelector('#df-5f9664c8-e66a-4330-ad39-661ce49c8e10');\n",
              "          const dataTable =\n",
              "            await google.colab.kernel.invokeFunction('convertToInteractive',\n",
              "                                                     [key], {});\n",
              "          if (!dataTable) return;\n",
              "\n",
              "          const docLinkHtml = 'Like what you see? Visit the ' +\n",
              "            '<a target=\"_blank\" href=https://colab.research.google.com/notebooks/data_table.ipynb>data table notebook</a>'\n",
              "            + ' to learn more about interactive tables.';\n",
              "          element.innerHTML = '';\n",
              "          dataTable['output_type'] = 'display_data';\n",
              "          await google.colab.output.renderOutput(dataTable, element);\n",
              "          const docLink = document.createElement('div');\n",
              "          docLink.innerHTML = docLinkHtml;\n",
              "          element.appendChild(docLink);\n",
              "        }\n",
              "      </script>\n",
              "    </div>\n",
              "  </div>\n",
              "  "
            ]
          },
          "metadata": {},
          "execution_count": 25
        }
      ]
    },
    {
      "cell_type": "markdown",
      "source": [
        "**Insight 9** - the most popular instrument among all platforms are digital options (that's interesting that with web_mobile only digital options are dealed). But profitability of instrumnets differs among platforms: with Android crypto is the most profitable, with web the most profitable is cfd, and crypto here is extremely unprofitable, with iOS all instruments are unprofitable (negative pnl)."
      ],
      "metadata": {
        "id": "AQkTju2fWuPE"
      }
    },
    {
      "cell_type": "code",
      "source": [
        "# check what are the most popular and the most profitable assets by platform\n",
        "d5 = df.groupby(['deal_platform', 'asset']).agg({'user_id' : 'count', 'pnl' : 'sum'})\n",
        "d5['average_profitability'] = d5['pnl'] / d5['user_id']\n",
        "d5['user_id'].nlargest(10).plot.bar();"
      ],
      "metadata": {
        "colab": {
          "base_uri": "https://localhost:8080/",
          "height": 366
        },
        "id": "4J3iVyg9VXi7",
        "outputId": "87f99f4a-69cf-45b0-ab78-089b4cc7010e"
      },
      "execution_count": null,
      "outputs": [
        {
          "output_type": "display_data",
          "data": {
            "text/plain": [
              "<Figure size 432x288 with 1 Axes>"
            ],
            "image/png": "[encoded data removed]"
          },
          "metadata": {
            "needs_background": "light"
          }
        }
      ]
    },
    {
      "cell_type": "code",
      "source": [
        "d5['average_profitability'].nlargest(10).plot.bar();"
      ],
      "metadata": {
        "colab": {
          "base_uri": "https://localhost:8080/",
          "height": 402
        },
        "id": "JwK4LeiMa5iL",
        "outputId": "3149aa2d-7251-403b-9d6f-28c42ec716e0"
      },
      "execution_count": null,
      "outputs": [
        {
          "output_type": "display_data",
          "data": {
            "text/plain": [
              "<Figure size 432x288 with 1 Axes>"
            ],
            "image/png": "[encoded data removed]"
          },
          "metadata": {
            "needs_background": "light"
          }
        }
      ]
    },
    {
      "cell_type": "markdown",
      "source": [
        "**Insight 10** - the most used assets and the most profitable assets are different. Android and Web are two platforms which are used the most, while most profitable asset is dealed with web_mobile."
      ],
      "metadata": {
        "id": "MxuiSFW6Yd0V"
      }
    },
    {
      "cell_type": "code",
      "source": [
        "# check when users have registered on dofferent platforms\n",
        "df.drop_duplicates(['user_id']).groupby(['deal_platform', 'user_registration_year'])['user_registration_year'].count()"
      ],
      "metadata": {
        "colab": {
          "base_uri": "https://localhost:8080/"
        },
        "id": "t5jrI4vTYK7s",
        "outputId": "ba3ca4f0-69bf-4852-c71a-14eee5e7f820"
      },
      "execution_count": null,
      "outputs": [
        {
          "output_type": "execute_result",
          "data": {
            "text/plain": [
              "deal_platform  user_registration_year\n",
              "Android        2013                          1\n",
              "               2014                         38\n",
              "               2015                        150\n",
              "               2016                        765\n",
              "               2017                       2192\n",
              "               2018                       2164\n",
              "               2019                       6557\n",
              "               2020                      18540\n",
              "Web            2014                         46\n",
              "               2015                        268\n",
              "               2016                       1073\n",
              "               2017                       2491\n",
              "               2018                       2888\n",
              "               2019                      11316\n",
              "               2020                      27267\n",
              "Web_mobile     2017                          3\n",
              "               2018                          6\n",
              "               2019                         14\n",
              "               2020                         22\n",
              "iOS            2014                         14\n",
              "               2015                         48\n",
              "               2016                        211\n",
              "               2017                        527\n",
              "               2018                        402\n",
              "               2019                       1367\n",
              "               2020                       5153\n",
              "Name: user_registration_year, dtype: int64"
            ]
          },
          "metadata": {},
          "execution_count": 28
        }
      ]
    },
    {
      "cell_type": "markdown",
      "source": [
        "**Insight 11** - among all platgorms there is an increase of users. However, the sharpness of growth is different - the most fast increase is in Web and Android, the slowest growth is in Web_mobile."
      ],
      "metadata": {
        "id": "tHtINbDDZxHg"
      }
    },
    {
      "cell_type": "code",
      "source": [
        "# check at what day of week users create deals with different platforms\n",
        "df.groupby(['deal_platform', 'deal_create_weekday'])['deal_create_weekday'].count()"
      ],
      "metadata": {
        "colab": {
          "base_uri": "https://localhost:8080/"
        },
        "id": "U1IqTj0hY_U3",
        "outputId": "a311957b-1e7e-4f68-ae23-3afa6bad8572"
      },
      "execution_count": null,
      "outputs": [
        {
          "output_type": "execute_result",
          "data": {
            "text/plain": [
              "deal_platform  deal_create_weekday\n",
              "Android        Friday                  9118\n",
              "               Monday                 11108\n",
              "               Saturday                8679\n",
              "               Sunday                 12374\n",
              "               Thursday                9062\n",
              "               Tuesday                11741\n",
              "               Wednesday              11251\n",
              "Web            Friday                 17839\n",
              "               Monday                 16478\n",
              "               Saturday                8361\n",
              "               Sunday                 11542\n",
              "               Thursday               15478\n",
              "               Tuesday                17089\n",
              "               Wednesday              19121\n",
              "Web_mobile     Friday                     9\n",
              "               Monday                    11\n",
              "               Saturday                  10\n",
              "               Sunday                    13\n",
              "               Thursday                  12\n",
              "               Tuesday                    8\n",
              "               Wednesday                 18\n",
              "iOS            Friday                  2399\n",
              "               Monday                  3380\n",
              "               Saturday                2503\n",
              "               Sunday                  3524\n",
              "               Thursday                2443\n",
              "               Tuesday                 3605\n",
              "               Wednesday               2824\n",
              "Name: deal_create_weekday, dtype: int64"
            ]
          },
          "metadata": {},
          "execution_count": 29
        }
      ]
    },
    {
      "cell_type": "markdown",
      "source": [
        "**Insight 12** - deals creature activity differs by platforms, however, difference is not as big as it was with grouping by region."
      ],
      "metadata": {
        "id": "G4v_VvqqbAjD"
      }
    },
    {
      "cell_type": "code",
      "source": [
        "# check at what day of week users close deals with different platforms\n",
        "df.groupby(['deal_platform', 'deal_close_weekday'])['deal_close_weekday'].count()"
      ],
      "metadata": {
        "colab": {
          "base_uri": "https://localhost:8080/"
        },
        "id": "8Y0wKSMNaw68",
        "outputId": "8380523b-fb7e-4698-896a-2dab22bddfbc"
      },
      "execution_count": null,
      "outputs": [
        {
          "output_type": "execute_result",
          "data": {
            "text/plain": [
              "deal_platform  deal_close_weekday\n",
              "Android        Friday                 9181\n",
              "               Monday                11037\n",
              "               Saturday               8659\n",
              "               Sunday                12363\n",
              "               Thursday               8984\n",
              "               Tuesday               11921\n",
              "               Wednesday             11188\n",
              "Web            Friday                17888\n",
              "               Monday                16325\n",
              "               Saturday               8358\n",
              "               Sunday                11534\n",
              "               Thursday              15400\n",
              "               Tuesday               17394\n",
              "               Wednesday             19009\n",
              "Web_mobile     Friday                    9\n",
              "               Monday                   11\n",
              "               Saturday                 10\n",
              "               Sunday                   13\n",
              "               Thursday                 12\n",
              "               Tuesday                   8\n",
              "               Wednesday                18\n",
              "iOS            Friday                 2436\n",
              "               Monday                 3361\n",
              "               Saturday               2502\n",
              "               Sunday                 3523\n",
              "               Thursday               2399\n",
              "               Tuesday                3645\n",
              "               Wednesday              2812\n",
              "Name: deal_close_weekday, dtype: int64"
            ]
          },
          "metadata": {},
          "execution_count": 30
        }
      ]
    },
    {
      "cell_type": "markdown",
      "source": [
        "**Insight 13** - for deals closure there is the same situation as with creature: weekdays of deals closure differ among platforms."
      ],
      "metadata": {
        "id": "vRIBfsdsdAn7"
      }
    },
    {
      "cell_type": "code",
      "source": [
        "# check correlation between deals creature and closure weekdays by regions\n",
        "df.groupby(['deal_platform', 'deal_close_weekday'])['deal_close_weekday'].count(). \\\n",
        "  corr(df.groupby(['deal_platform', 'deal_create_weekday'])['deal_create_weekday'].count())"
      ],
      "metadata": {
        "colab": {
          "base_uri": "https://localhost:8080/"
        },
        "id": "5aoKh2_AcExR",
        "outputId": "6b353476-35f6-464b-ecee-ee1fe8360bcf"
      },
      "execution_count": null,
      "outputs": [
        {
          "output_type": "execute_result",
          "data": {
            "text/plain": [
              "0.9999119569096897"
            ]
          },
          "metadata": {},
          "execution_count": 31
        }
      ]
    },
    {
      "cell_type": "markdown",
      "source": [
        "## **Users segmentation**"
      ],
      "metadata": {
        "id": "au2ThiWoJVVM"
      }
    },
    {
      "cell_type": "markdown",
      "source": [
        "I've decided to use **RFM segmentation**.\n",
        "\n",
        "According to this approach we evaluate users based in 3 cretarion:\n",
        "\n",
        "*   *Recency* - time elapsed since the last user activity\n",
        "*   *Frequency* of user activities\n",
        "*   *Monetary* - money turnover per user\n",
        "\n",
        "For each criterion users are assigned a raring, for simplicity I will make a rating from 1 to 3 (1 is for best evaluation and 2 for the worst). Then we attach three ratings together and get the final user rating. For example, 111 are ideal users who make a lot of actions on the platform, the last action was made recently and they have a high cash turnover. On the other hand, 333 are the worst users who are not active at all, made thay last activity too long ago and they cash turnover is too small (they can be those users who registered but didn't create or close any deals). "
      ],
      "metadata": {
        "id": "B6dboN-xdo9s"
      }
    },
    {
      "cell_type": "code",
      "source": [
        "# for recencry criteria I used last deal close time\n",
        "# for frequency criteria I used total amount of deals closed by user\n",
        "# for monetary criteria I used the sum of absolute pnl of each user\n",
        "\n",
        "ds = df.groupby('user_id', as_index=False).agg(deal_close_time_max=('deal_close_time', 'max'),\n",
        "                                                amount_of_deals=('user_id', 'count'),\n",
        "                                                cash_turnover=('pnl', lambda x: sum(abs(x))))\n",
        "ds"
      ],
      "metadata": {
        "id": "5uXPEadzdfJW",
        "colab": {
          "base_uri": "https://localhost:8080/",
          "height": 423
        },
        "outputId": "2f027d48-8b69-487b-8a9e-2301729f577b"
      },
      "execution_count": null,
      "outputs": [
        {
          "output_type": "execute_result",
          "data": {
            "text/plain": [
              "         user_id deal_close_time_max  amount_of_deals  cash_turnover\n",
              "0           2070 2020-05-25 09:35:02                2      29.433170\n",
              "1         337946 2020-06-05 08:38:03               17      25.596337\n",
              "2         360923 2020-06-05 08:38:02               16      27.094058\n",
              "3         449611 2020-05-25 12:05:06                9      22.447055\n",
              "4         818646 2020-05-24 10:48:02                8      18.007657\n",
              "...          ...                 ...              ...            ...\n",
              "83518  540147279 2020-06-09 06:05:47                1       0.029528\n",
              "83519  540155958 2020-06-09 06:02:03                1       0.568262\n",
              "83520  540172840 2020-06-09 06:12:02                2       2.805085\n",
              "83521  540629789 2020-06-10 05:24:04                1       0.576565\n",
              "83522  540961824 2020-06-10 05:23:05                1       1.402725\n",
              "\n",
              "[83523 rows x 4 columns]"
            ],
            "text/html": [
              "\n",
              "  <div id=\"df-1fa85b55-e12f-48e0-bf77-800393e648db\">\n",
              "    <div class=\"colab-df-container\">\n",
              "      <div>\n",
              "<style scoped>\n",
              "    .dataframe tbody tr th:only-of-type {\n",
              "        vertical-align: middle;\n",
              "    }\n",
              "\n",
              "    .dataframe tbody tr th {\n",
              "        vertical-align: top;\n",
              "    }\n",
              "\n",
              "    .dataframe thead th {\n",
              "        text-align: right;\n",
              "    }\n",
              "</style>\n",
              "<table border=\"1\" class=\"dataframe\">\n",
              "  <thead>\n",
              "    <tr style=\"text-align: right;\">\n",
              "      <th></th>\n",
              "      <th>user_id</th>\n",
              "      <th>deal_close_time_max</th>\n",
              "      <th>amount_of_deals</th>\n",
              "      <th>cash_turnover</th>\n",
              "    </tr>\n",
              "  </thead>\n",
              "  <tbody>\n",
              "    <tr>\n",
              "      <th>0</th>\n",
              "      <td>2070</td>\n",
              "      <td>2020-05-25 09:35:02</td>\n",
              "      <td>2</td>\n",
              "      <td>29.433170</td>\n",
              "    </tr>\n",
              "    <tr>\n",
              "      <th>1</th>\n",
              "      <td>337946</td>\n",
              "      <td>2020-06-05 08:38:03</td>\n",
              "      <td>17</td>\n",
              "      <td>25.596337</td>\n",
              "    </tr>\n",
              "    <tr>\n",
              "      <th>2</th>\n",
              "      <td>360923</td>\n",
              "      <td>2020-06-05 08:38:02</td>\n",
              "      <td>16</td>\n",
              "      <td>27.094058</td>\n",
              "    </tr>\n",
              "    <tr>\n",
              "      <th>3</th>\n",
              "      <td>449611</td>\n",
              "      <td>2020-05-25 12:05:06</td>\n",
              "      <td>9</td>\n",
              "      <td>22.447055</td>\n",
              "    </tr>\n",
              "    <tr>\n",
              "      <th>4</th>\n",
              "      <td>818646</td>\n",
              "      <td>2020-05-24 10:48:02</td>\n",
              "      <td>8</td>\n",
              "      <td>18.007657</td>\n",
              "    </tr>\n",
              "    <tr>\n",
              "      <th>...</th>\n",
              "      <td>...</td>\n",
              "      <td>...</td>\n",
              "      <td>...</td>\n",
              "      <td>...</td>\n",
              "    </tr>\n",
              "    <tr>\n",
              "      <th>83518</th>\n",
              "      <td>540147279</td>\n",
              "      <td>2020-06-09 06:05:47</td>\n",
              "      <td>1</td>\n",
              "      <td>0.029528</td>\n",
              "    </tr>\n",
              "    <tr>\n",
              "      <th>83519</th>\n",
              "      <td>540155958</td>\n",
              "      <td>2020-06-09 06:02:03</td>\n",
              "      <td>1</td>\n",
              "      <td>0.568262</td>\n",
              "    </tr>\n",
              "    <tr>\n",
              "      <th>83520</th>\n",
              "      <td>540172840</td>\n",
              "      <td>2020-06-09 06:12:02</td>\n",
              "      <td>2</td>\n",
              "      <td>2.805085</td>\n",
              "    </tr>\n",
              "    <tr>\n",
              "      <th>83521</th>\n",
              "      <td>540629789</td>\n",
              "      <td>2020-06-10 05:24:04</td>\n",
              "      <td>1</td>\n",
              "      <td>0.576565</td>\n",
              "    </tr>\n",
              "    <tr>\n",
              "      <th>83522</th>\n",
              "      <td>540961824</td>\n",
              "      <td>2020-06-10 05:23:05</td>\n",
              "      <td>1</td>\n",
              "      <td>1.402725</td>\n",
              "    </tr>\n",
              "  </tbody>\n",
              "</table>\n",
              "<p>83523 rows × 4 columns</p>\n",
              "</div>\n",
              "      <button class=\"colab-df-convert\" onclick=\"convertToInteractive('df-1fa85b55-e12f-48e0-bf77-800393e648db')\"\n",
              "              title=\"Convert this dataframe to an interactive table.\"\n",
              "              style=\"display:none;\">\n",
              "        \n",
              "  <svg xmlns=\"http://www.w3.org/2000/svg\" height=\"24px\"viewBox=\"0 0 24 24\"\n",
              "       width=\"24px\">\n",
              "    <path d=\"M0 0h24v24H0V0z\" fill=\"none\"/>\n",
              "    <path d=\"M18.56 5.44l.94 2.06.94-2.06 2.06-.94-2.06-.94-.94-2.06-.94 2.06-2.06.94zm-11 1L8.5 8.5l.94-2.06 2.06-.94-2.06-.94L8.5 2.5l-.94 2.06-2.06.94zm10 10l.94 2.06.94-2.06 2.06-.94-2.06-.94-.94-2.06-.94 2.06-2.06.94z\"/><path d=\"M17.41 7.96l-1.37-1.37c-.4-.4-.92-.59-1.43-.59-.52 0-1.04.2-1.43.59L10.3 9.45l-7.72 7.72c-.78.78-.78 2.05 0 2.83L4 21.41c.39.39.9.59 1.41.59.51 0 1.02-.2 1.41-.59l7.78-7.78 2.81-2.81c.8-.78.8-2.07 0-2.86zM5.41 20L4 18.59l7.72-7.72 1.47 1.35L5.41 20z\"/>\n",
              "  </svg>\n",
              "      </button>\n",
              "      \n",
              "  <style>\n",
              "    .colab-df-container {\n",
              "      display:flex;\n",
              "      flex-wrap:wrap;\n",
              "      gap: 12px;\n",
              "    }\n",
              "\n",
              "    .colab-df-convert {\n",
              "      background-color: #E8F0FE;\n",
              "      border: none;\n",
              "      border-radius: 50%;\n",
              "      cursor: pointer;\n",
              "      display: none;\n",
              "      fill: #1967D2;\n",
              "      height: 32px;\n",
              "      padding: 0 0 0 0;\n",
              "      width: 32px;\n",
              "    }\n",
              "\n",
              "    .colab-df-convert:hover {\n",
              "      background-color: #E2EBFA;\n",
              "      box-shadow: 0px 1px 2px rgba(60, 64, 67, 0.3), 0px 1px 3px 1px rgba(60, 64, 67, 0.15);\n",
              "      fill: #174EA6;\n",
              "    }\n",
              "\n",
              "    [theme=dark] .colab-df-convert {\n",
              "      background-color: #3B4455;\n",
              "      fill: #D2E3FC;\n",
              "    }\n",
              "\n",
              "    [theme=dark] .colab-df-convert:hover {\n",
              "      background-color: #434B5C;\n",
              "      box-shadow: 0px 1px 3px 1px rgba(0, 0, 0, 0.15);\n",
              "      filter: drop-shadow(0px 1px 2px rgba(0, 0, 0, 0.3));\n",
              "      fill: #FFFFFF;\n",
              "    }\n",
              "  </style>\n",
              "\n",
              "      <script>\n",
              "        const buttonEl =\n",
              "          document.querySelector('#df-1fa85b55-e12f-48e0-bf77-800393e648db button.colab-df-convert');\n",
              "        buttonEl.style.display =\n",
              "          google.colab.kernel.accessAllowed ? 'block' : 'none';\n",
              "\n",
              "        async function convertToInteractive(key) {\n",
              "          const element = document.querySelector('#df-1fa85b55-e12f-48e0-bf77-800393e648db');\n",
              "          const dataTable =\n",
              "            await google.colab.kernel.invokeFunction('convertToInteractive',\n",
              "                                                     [key], {});\n",
              "          if (!dataTable) return;\n",
              "\n",
              "          const docLinkHtml = 'Like what you see? Visit the ' +\n",
              "            '<a target=\"_blank\" href=https://colab.research.google.com/notebooks/data_table.ipynb>data table notebook</a>'\n",
              "            + ' to learn more about interactive tables.';\n",
              "          element.innerHTML = '';\n",
              "          dataTable['output_type'] = 'display_data';\n",
              "          await google.colab.output.renderOutput(dataTable, element);\n",
              "          const docLink = document.createElement('div');\n",
              "          docLink.innerHTML = docLinkHtml;\n",
              "          element.appendChild(docLink);\n",
              "        }\n",
              "      </script>\n",
              "    </div>\n",
              "  </div>\n",
              "  "
            ]
          },
          "metadata": {},
          "execution_count": 84
        }
      ]
    },
    {
      "cell_type": "code",
      "source": [
        "# lets first remove outliers\n",
        "import numpy as np\n",
        "from scipy import stats\n",
        "\n",
        "ds = ds[(np.abs(stats.zscore(ds[['amount_of_deals', 'cash_turnover']])) < 3).all(axis=1)]"
      ],
      "metadata": {
        "id": "TS9xOAk3yLej"
      },
      "execution_count": null,
      "outputs": []
    },
    {
      "cell_type": "code",
      "source": [
        "# now let's give users rating from 1 to 3 on each criterion\n",
        "# and at the same time assign some description to each rating in order managers to be able to understand what this rating mean\n",
        "#recency_d = {1 : 'Fans', 2 : 'Average', 3: 'Lost'}\n",
        "#frequency_d = {1 : 'Active', 2 : 'Average', 3: 'Passive'}\n",
        "#monetary_d = {1 : 'BigSpender', 2 : 'Average', 3: 'Poor'}\n",
        "\n",
        "import os\n",
        "import warnings\n",
        "warnings.filterwarnings('ignore')\n",
        "\n",
        "third_1_r = min(ds.deal_close_time_max) + (max(ds.deal_close_time_max) - min(ds.deal_close_time_max)) / 3\n",
        "third_2_r = min(ds.deal_close_time_max) + (max(ds.deal_close_time_max) - min(ds.deal_close_time_max)) / 3 * 2\n",
        "ds['recency'] = ds.deal_close_time_max.map(lambda x: 'Fan' if x <= third_1_r else 'Average' if x <= third_2_r else 'Lost')\n",
        "\n",
        "third_1_f = min(ds.amount_of_deals) + (max(ds.amount_of_deals) - min(ds.amount_of_deals)) / 3\n",
        "third_2_f = min(ds.amount_of_deals) + (max(ds.amount_of_deals) - min(ds.amount_of_deals)) / 3 * 2\n",
        "ds['frequency'] = ds.amount_of_deals.map(lambda x: 'Active' if x > third_2_f else 'Average' if x >= third_1_f else 'Passive')\n",
        "\n",
        "third_1_m = min(ds.cash_turnover) + (max(ds.cash_turnover) - min(ds.cash_turnover)) / 3\n",
        "third_2_m = min(ds.cash_turnover) + (max(ds.cash_turnover) - min(ds.cash_turnover)) / 3 * 2\n",
        "ds['monetary'] = ds.cash_turnover.map(lambda x: 'BigSpender' if x > third_2_m else 'Average' if x >= third_1_m else 'Poor')\n",
        "\n",
        "ds"
      ],
      "metadata": {
        "colab": {
          "base_uri": "https://localhost:8080/",
          "height": 423
        },
        "id": "NWZlBC8AorLh",
        "outputId": "10d254ae-66bb-4721-bacd-72c87d7f8a2d"
      },
      "execution_count": null,
      "outputs": [
        {
          "output_type": "execute_result",
          "data": {
            "text/plain": [
              "         user_id deal_close_time_max  amount_of_deals  cash_turnover  recency  \\\n",
              "0           2070 2020-05-25 09:35:02                2      29.433170  Average   \n",
              "1         337946 2020-06-05 08:38:03               17      25.596337     Lost   \n",
              "2         360923 2020-06-05 08:38:02               16      27.094058     Lost   \n",
              "3         449611 2020-05-25 12:05:06                9      22.447055  Average   \n",
              "4         818646 2020-05-24 10:48:02                8      18.007657  Average   \n",
              "...          ...                 ...              ...            ...      ...   \n",
              "83518  540147279 2020-06-09 06:05:47                1       0.029528     Lost   \n",
              "83519  540155958 2020-06-09 06:02:03                1       0.568262     Lost   \n",
              "83520  540172840 2020-06-09 06:12:02                2       2.805085     Lost   \n",
              "83521  540629789 2020-06-10 05:24:04                1       0.576565     Lost   \n",
              "83522  540961824 2020-06-10 05:23:05                1       1.402725     Lost   \n",
              "\n",
              "      frequency monetary  \n",
              "0       Passive     Poor  \n",
              "1       Average     Poor  \n",
              "2       Average     Poor  \n",
              "3       Passive     Poor  \n",
              "4       Passive     Poor  \n",
              "...         ...      ...  \n",
              "83518   Passive     Poor  \n",
              "83519   Passive     Poor  \n",
              "83520   Passive     Poor  \n",
              "83521   Passive     Poor  \n",
              "83522   Passive     Poor  \n",
              "\n",
              "[83189 rows x 7 columns]"
            ],
            "text/html": [
              "\n",
              "  <div id=\"df-40702769-1500-4053-949e-3cf46e3aee19\">\n",
              "    <div class=\"colab-df-container\">\n",
              "      <div>\n",
              "<style scoped>\n",
              "    .dataframe tbody tr th:only-of-type {\n",
              "        vertical-align: middle;\n",
              "    }\n",
              "\n",
              "    .dataframe tbody tr th {\n",
              "        vertical-align: top;\n",
              "    }\n",
              "\n",
              "    .dataframe thead th {\n",
              "        text-align: right;\n",
              "    }\n",
              "</style>\n",
              "<table border=\"1\" class=\"dataframe\">\n",
              "  <thead>\n",
              "    <tr style=\"text-align: right;\">\n",
              "      <th></th>\n",
              "      <th>user_id</th>\n",
              "      <th>deal_close_time_max</th>\n",
              "      <th>amount_of_deals</th>\n",
              "      <th>cash_turnover</th>\n",
              "      <th>recency</th>\n",
              "      <th>frequency</th>\n",
              "      <th>monetary</th>\n",
              "    </tr>\n",
              "  </thead>\n",
              "  <tbody>\n",
              "    <tr>\n",
              "      <th>0</th>\n",
              "      <td>2070</td>\n",
              "      <td>2020-05-25 09:35:02</td>\n",
              "      <td>2</td>\n",
              "      <td>29.433170</td>\n",
              "      <td>Average</td>\n",
              "      <td>Passive</td>\n",
              "      <td>Poor</td>\n",
              "    </tr>\n",
              "    <tr>\n",
              "      <th>1</th>\n",
              "      <td>337946</td>\n",
              "      <td>2020-06-05 08:38:03</td>\n",
              "      <td>17</td>\n",
              "      <td>25.596337</td>\n",
              "      <td>Lost</td>\n",
              "      <td>Average</td>\n",
              "      <td>Poor</td>\n",
              "    </tr>\n",
              "    <tr>\n",
              "      <th>2</th>\n",
              "      <td>360923</td>\n",
              "      <td>2020-06-05 08:38:02</td>\n",
              "      <td>16</td>\n",
              "      <td>27.094058</td>\n",
              "      <td>Lost</td>\n",
              "      <td>Average</td>\n",
              "      <td>Poor</td>\n",
              "    </tr>\n",
              "    <tr>\n",
              "      <th>3</th>\n",
              "      <td>449611</td>\n",
              "      <td>2020-05-25 12:05:06</td>\n",
              "      <td>9</td>\n",
              "      <td>22.447055</td>\n",
              "      <td>Average</td>\n",
              "      <td>Passive</td>\n",
              "      <td>Poor</td>\n",
              "    </tr>\n",
              "    <tr>\n",
              "      <th>4</th>\n",
              "      <td>818646</td>\n",
              "      <td>2020-05-24 10:48:02</td>\n",
              "      <td>8</td>\n",
              "      <td>18.007657</td>\n",
              "      <td>Average</td>\n",
              "      <td>Passive</td>\n",
              "      <td>Poor</td>\n",
              "    </tr>\n",
              "    <tr>\n",
              "      <th>...</th>\n",
              "      <td>...</td>\n",
              "      <td>...</td>\n",
              "      <td>...</td>\n",
              "      <td>...</td>\n",
              "      <td>...</td>\n",
              "      <td>...</td>\n",
              "      <td>...</td>\n",
              "    </tr>\n",
              "    <tr>\n",
              "      <th>83518</th>\n",
              "      <td>540147279</td>\n",
              "      <td>2020-06-09 06:05:47</td>\n",
              "      <td>1</td>\n",
              "      <td>0.029528</td>\n",
              "      <td>Lost</td>\n",
              "      <td>Passive</td>\n",
              "      <td>Poor</td>\n",
              "    </tr>\n",
              "    <tr>\n",
              "      <th>83519</th>\n",
              "      <td>540155958</td>\n",
              "      <td>2020-06-09 06:02:03</td>\n",
              "      <td>1</td>\n",
              "      <td>0.568262</td>\n",
              "      <td>Lost</td>\n",
              "      <td>Passive</td>\n",
              "      <td>Poor</td>\n",
              "    </tr>\n",
              "    <tr>\n",
              "      <th>83520</th>\n",
              "      <td>540172840</td>\n",
              "      <td>2020-06-09 06:12:02</td>\n",
              "      <td>2</td>\n",
              "      <td>2.805085</td>\n",
              "      <td>Lost</td>\n",
              "      <td>Passive</td>\n",
              "      <td>Poor</td>\n",
              "    </tr>\n",
              "    <tr>\n",
              "      <th>83521</th>\n",
              "      <td>540629789</td>\n",
              "      <td>2020-06-10 05:24:04</td>\n",
              "      <td>1</td>\n",
              "      <td>0.576565</td>\n",
              "      <td>Lost</td>\n",
              "      <td>Passive</td>\n",
              "      <td>Poor</td>\n",
              "    </tr>\n",
              "    <tr>\n",
              "      <th>83522</th>\n",
              "      <td>540961824</td>\n",
              "      <td>2020-06-10 05:23:05</td>\n",
              "      <td>1</td>\n",
              "      <td>1.402725</td>\n",
              "      <td>Lost</td>\n",
              "      <td>Passive</td>\n",
              "      <td>Poor</td>\n",
              "    </tr>\n",
              "  </tbody>\n",
              "</table>\n",
              "<p>83189 rows × 7 columns</p>\n",
              "</div>\n",
              "      <button class=\"colab-df-convert\" onclick=\"convertToInteractive('df-40702769-1500-4053-949e-3cf46e3aee19')\"\n",
              "              title=\"Convert this dataframe to an interactive table.\"\n",
              "              style=\"display:none;\">\n",
              "        \n",
              "  <svg xmlns=\"http://www.w3.org/2000/svg\" height=\"24px\"viewBox=\"0 0 24 24\"\n",
              "       width=\"24px\">\n",
              "    <path d=\"M0 0h24v24H0V0z\" fill=\"none\"/>\n",
              "    <path d=\"M18.56 5.44l.94 2.06.94-2.06 2.06-.94-2.06-.94-.94-2.06-.94 2.06-2.06.94zm-11 1L8.5 8.5l.94-2.06 2.06-.94-2.06-.94L8.5 2.5l-.94 2.06-2.06.94zm10 10l.94 2.06.94-2.06 2.06-.94-2.06-.94-.94-2.06-.94 2.06-2.06.94z\"/><path d=\"M17.41 7.96l-1.37-1.37c-.4-.4-.92-.59-1.43-.59-.52 0-1.04.2-1.43.59L10.3 9.45l-7.72 7.72c-.78.78-.78 2.05 0 2.83L4 21.41c.39.39.9.59 1.41.59.51 0 1.02-.2 1.41-.59l7.78-7.78 2.81-2.81c.8-.78.8-2.07 0-2.86zM5.41 20L4 18.59l7.72-7.72 1.47 1.35L5.41 20z\"/>\n",
              "  </svg>\n",
              "      </button>\n",
              "      \n",
              "  <style>\n",
              "    .colab-df-container {\n",
              "      display:flex;\n",
              "      flex-wrap:wrap;\n",
              "      gap: 12px;\n",
              "    }\n",
              "\n",
              "    .colab-df-convert {\n",
              "      background-color: #E8F0FE;\n",
              "      border: none;\n",
              "      border-radius: 50%;\n",
              "      cursor: pointer;\n",
              "      display: none;\n",
              "      fill: #1967D2;\n",
              "      height: 32px;\n",
              "      padding: 0 0 0 0;\n",
              "      width: 32px;\n",
              "    }\n",
              "\n",
              "    .colab-df-convert:hover {\n",
              "      background-color: #E2EBFA;\n",
              "      box-shadow: 0px 1px 2px rgba(60, 64, 67, 0.3), 0px 1px 3px 1px rgba(60, 64, 67, 0.15);\n",
              "      fill: #174EA6;\n",
              "    }\n",
              "\n",
              "    [theme=dark] .colab-df-convert {\n",
              "      background-color: #3B4455;\n",
              "      fill: #D2E3FC;\n",
              "    }\n",
              "\n",
              "    [theme=dark] .colab-df-convert:hover {\n",
              "      background-color: #434B5C;\n",
              "      box-shadow: 0px 1px 3px 1px rgba(0, 0, 0, 0.15);\n",
              "      filter: drop-shadow(0px 1px 2px rgba(0, 0, 0, 0.3));\n",
              "      fill: #FFFFFF;\n",
              "    }\n",
              "  </style>\n",
              "\n",
              "      <script>\n",
              "        const buttonEl =\n",
              "          document.querySelector('#df-40702769-1500-4053-949e-3cf46e3aee19 button.colab-df-convert');\n",
              "        buttonEl.style.display =\n",
              "          google.colab.kernel.accessAllowed ? 'block' : 'none';\n",
              "\n",
              "        async function convertToInteractive(key) {\n",
              "          const element = document.querySelector('#df-40702769-1500-4053-949e-3cf46e3aee19');\n",
              "          const dataTable =\n",
              "            await google.colab.kernel.invokeFunction('convertToInteractive',\n",
              "                                                     [key], {});\n",
              "          if (!dataTable) return;\n",
              "\n",
              "          const docLinkHtml = 'Like what you see? Visit the ' +\n",
              "            '<a target=\"_blank\" href=https://colab.research.google.com/notebooks/data_table.ipynb>data table notebook</a>'\n",
              "            + ' to learn more about interactive tables.';\n",
              "          element.innerHTML = '';\n",
              "          dataTable['output_type'] = 'display_data';\n",
              "          await google.colab.output.renderOutput(dataTable, element);\n",
              "          const docLink = document.createElement('div');\n",
              "          docLink.innerHTML = docLinkHtml;\n",
              "          element.appendChild(docLink);\n",
              "        }\n",
              "      </script>\n",
              "    </div>\n",
              "  </div>\n",
              "  "
            ]
          },
          "metadata": {},
          "execution_count": 89
        }
      ]
    },
    {
      "cell_type": "markdown",
      "source": [
        "Here we see that there are for example Lost Passive Poor user, which means that he is not interesting for us because he has closed his last deal too long ago, closed not many deals and his deals turnover was small. "
      ],
      "metadata": {
        "id": "asatNbhg4pS5"
      }
    },
    {
      "cell_type": "code",
      "source": [
        "# let's look how many users have different ratings by criterion\n",
        "print(ds.groupby('recency').user_id.count())\n",
        "print('\\n')\n",
        "print(ds.groupby('frequency').user_id.count())\n",
        "print('\\n')\n",
        "print(ds.groupby('monetary').user_id.count())"
      ],
      "metadata": {
        "colab": {
          "base_uri": "https://localhost:8080/"
        },
        "id": "Fp7Qkul7z3E2",
        "outputId": "c4b981b8-4656-4d11-f7b3-fb8282a63c6c"
      },
      "execution_count": null,
      "outputs": [
        {
          "output_type": "stream",
          "name": "stdout",
          "text": [
            "recency\n",
            "Average    35950\n",
            "Fans       31675\n",
            "Lost       15564\n",
            "Name: user_id, dtype: int64\n",
            "\n",
            "\n",
            "frequency\n",
            "Active       116\n",
            "Average      629\n",
            "Passive    82444\n",
            "Name: user_id, dtype: int64\n",
            "\n",
            "\n",
            "monetary\n",
            "Average         452\n",
            "BigSpender      140\n",
            "Poor          82597\n",
            "Name: user_id, dtype: int64\n"
          ]
        }
      ]
    },
    {
      "cell_type": "code",
      "source": [
        "ds.query('monetary == \"BigSpender\"')"
      ],
      "metadata": {
        "colab": {
          "base_uri": "https://localhost:8080/",
          "height": 423
        },
        "id": "yehAO_NT5Bpt",
        "outputId": "552105c4-da8b-4b64-b05e-a97167b8205a"
      },
      "execution_count": null,
      "outputs": [
        {
          "output_type": "execute_result",
          "data": {
            "text/plain": [
              "         user_id deal_close_time_max  amount_of_deals  cash_turnover  recency  \\\n",
              "292     24499615 2020-06-09 06:11:02                6     622.619580     Lost   \n",
              "345     29466971 2020-05-28 08:01:02                2     723.716567  Average   \n",
              "465     48819593 2020-06-02 09:22:25               22     712.375733     Lost   \n",
              "1021    78622042 2020-05-25 11:50:04                3     610.508062  Average   \n",
              "1400    89814762 2020-05-26 10:15:08                9     760.540060  Average   \n",
              "...          ...                 ...              ...            ...      ...   \n",
              "74204  519299573 2020-05-15 14:21:59                1     552.727663      Fan   \n",
              "74961  520141741 2020-05-27 05:00:05                3     722.886920  Average   \n",
              "80316  527649240 2020-05-23 10:24:58                2     652.728292  Average   \n",
              "80815  528515336 2020-05-24 11:07:38                9     705.622567  Average   \n",
              "82760  533737256 2020-06-07 07:24:03               11     684.388838     Lost   \n",
              "\n",
              "      frequency    monetary  \n",
              "292     Passive  BigSpender  \n",
              "345     Passive  BigSpender  \n",
              "465     Average  BigSpender  \n",
              "1021    Passive  BigSpender  \n",
              "1400    Passive  BigSpender  \n",
              "...         ...         ...  \n",
              "74204   Passive  BigSpender  \n",
              "74961   Passive  BigSpender  \n",
              "80316   Passive  BigSpender  \n",
              "80815   Passive  BigSpender  \n",
              "82760   Passive  BigSpender  \n",
              "\n",
              "[140 rows x 7 columns]"
            ],
            "text/html": [
              "\n",
              "  <div id=\"df-398fdd58-c327-4df1-b548-ec3b5795f727\">\n",
              "    <div class=\"colab-df-container\">\n",
              "      <div>\n",
              "<style scoped>\n",
              "    .dataframe tbody tr th:only-of-type {\n",
              "        vertical-align: middle;\n",
              "    }\n",
              "\n",
              "    .dataframe tbody tr th {\n",
              "        vertical-align: top;\n",
              "    }\n",
              "\n",
              "    .dataframe thead th {\n",
              "        text-align: right;\n",
              "    }\n",
              "</style>\n",
              "<table border=\"1\" class=\"dataframe\">\n",
              "  <thead>\n",
              "    <tr style=\"text-align: right;\">\n",
              "      <th></th>\n",
              "      <th>user_id</th>\n",
              "      <th>deal_close_time_max</th>\n",
              "      <th>amount_of_deals</th>\n",
              "      <th>cash_turnover</th>\n",
              "      <th>recency</th>\n",
              "      <th>frequency</th>\n",
              "      <th>monetary</th>\n",
              "    </tr>\n",
              "  </thead>\n",
              "  <tbody>\n",
              "    <tr>\n",
              "      <th>292</th>\n",
              "      <td>24499615</td>\n",
              "      <td>2020-06-09 06:11:02</td>\n",
              "      <td>6</td>\n",
              "      <td>622.619580</td>\n",
              "      <td>Lost</td>\n",
              "      <td>Passive</td>\n",
              "      <td>BigSpender</td>\n",
              "    </tr>\n",
              "    <tr>\n",
              "      <th>345</th>\n",
              "      <td>29466971</td>\n",
              "      <td>2020-05-28 08:01:02</td>\n",
              "      <td>2</td>\n",
              "      <td>723.716567</td>\n",
              "      <td>Average</td>\n",
              "      <td>Passive</td>\n",
              "      <td>BigSpender</td>\n",
              "    </tr>\n",
              "    <tr>\n",
              "      <th>465</th>\n",
              "      <td>48819593</td>\n",
              "      <td>2020-06-02 09:22:25</td>\n",
              "      <td>22</td>\n",
              "      <td>712.375733</td>\n",
              "      <td>Lost</td>\n",
              "      <td>Average</td>\n",
              "      <td>BigSpender</td>\n",
              "    </tr>\n",
              "    <tr>\n",
              "      <th>1021</th>\n",
              "      <td>78622042</td>\n",
              "      <td>2020-05-25 11:50:04</td>\n",
              "      <td>3</td>\n",
              "      <td>610.508062</td>\n",
              "      <td>Average</td>\n",
              "      <td>Passive</td>\n",
              "      <td>BigSpender</td>\n",
              "    </tr>\n",
              "    <tr>\n",
              "      <th>1400</th>\n",
              "      <td>89814762</td>\n",
              "      <td>2020-05-26 10:15:08</td>\n",
              "      <td>9</td>\n",
              "      <td>760.540060</td>\n",
              "      <td>Average</td>\n",
              "      <td>Passive</td>\n",
              "      <td>BigSpender</td>\n",
              "    </tr>\n",
              "    <tr>\n",
              "      <th>...</th>\n",
              "      <td>...</td>\n",
              "      <td>...</td>\n",
              "      <td>...</td>\n",
              "      <td>...</td>\n",
              "      <td>...</td>\n",
              "      <td>...</td>\n",
              "      <td>...</td>\n",
              "    </tr>\n",
              "    <tr>\n",
              "      <th>74204</th>\n",
              "      <td>519299573</td>\n",
              "      <td>2020-05-15 14:21:59</td>\n",
              "      <td>1</td>\n",
              "      <td>552.727663</td>\n",
              "      <td>Fan</td>\n",
              "      <td>Passive</td>\n",
              "      <td>BigSpender</td>\n",
              "    </tr>\n",
              "    <tr>\n",
              "      <th>74961</th>\n",
              "      <td>520141741</td>\n",
              "      <td>2020-05-27 05:00:05</td>\n",
              "      <td>3</td>\n",
              "      <td>722.886920</td>\n",
              "      <td>Average</td>\n",
              "      <td>Passive</td>\n",
              "      <td>BigSpender</td>\n",
              "    </tr>\n",
              "    <tr>\n",
              "      <th>80316</th>\n",
              "      <td>527649240</td>\n",
              "      <td>2020-05-23 10:24:58</td>\n",
              "      <td>2</td>\n",
              "      <td>652.728292</td>\n",
              "      <td>Average</td>\n",
              "      <td>Passive</td>\n",
              "      <td>BigSpender</td>\n",
              "    </tr>\n",
              "    <tr>\n",
              "      <th>80815</th>\n",
              "      <td>528515336</td>\n",
              "      <td>2020-05-24 11:07:38</td>\n",
              "      <td>9</td>\n",
              "      <td>705.622567</td>\n",
              "      <td>Average</td>\n",
              "      <td>Passive</td>\n",
              "      <td>BigSpender</td>\n",
              "    </tr>\n",
              "    <tr>\n",
              "      <th>82760</th>\n",
              "      <td>533737256</td>\n",
              "      <td>2020-06-07 07:24:03</td>\n",
              "      <td>11</td>\n",
              "      <td>684.388838</td>\n",
              "      <td>Lost</td>\n",
              "      <td>Passive</td>\n",
              "      <td>BigSpender</td>\n",
              "    </tr>\n",
              "  </tbody>\n",
              "</table>\n",
              "<p>140 rows × 7 columns</p>\n",
              "</div>\n",
              "      <button class=\"colab-df-convert\" onclick=\"convertToInteractive('df-398fdd58-c327-4df1-b548-ec3b5795f727')\"\n",
              "              title=\"Convert this dataframe to an interactive table.\"\n",
              "              style=\"display:none;\">\n",
              "        \n",
              "  <svg xmlns=\"http://www.w3.org/2000/svg\" height=\"24px\"viewBox=\"0 0 24 24\"\n",
              "       width=\"24px\">\n",
              "    <path d=\"M0 0h24v24H0V0z\" fill=\"none\"/>\n",
              "    <path d=\"M18.56 5.44l.94 2.06.94-2.06 2.06-.94-2.06-.94-.94-2.06-.94 2.06-2.06.94zm-11 1L8.5 8.5l.94-2.06 2.06-.94-2.06-.94L8.5 2.5l-.94 2.06-2.06.94zm10 10l.94 2.06.94-2.06 2.06-.94-2.06-.94-.94-2.06-.94 2.06-2.06.94z\"/><path d=\"M17.41 7.96l-1.37-1.37c-.4-.4-.92-.59-1.43-.59-.52 0-1.04.2-1.43.59L10.3 9.45l-7.72 7.72c-.78.78-.78 2.05 0 2.83L4 21.41c.39.39.9.59 1.41.59.51 0 1.02-.2 1.41-.59l7.78-7.78 2.81-2.81c.8-.78.8-2.07 0-2.86zM5.41 20L4 18.59l7.72-7.72 1.47 1.35L5.41 20z\"/>\n",
              "  </svg>\n",
              "      </button>\n",
              "      \n",
              "  <style>\n",
              "    .colab-df-container {\n",
              "      display:flex;\n",
              "      flex-wrap:wrap;\n",
              "      gap: 12px;\n",
              "    }\n",
              "\n",
              "    .colab-df-convert {\n",
              "      background-color: #E8F0FE;\n",
              "      border: none;\n",
              "      border-radius: 50%;\n",
              "      cursor: pointer;\n",
              "      display: none;\n",
              "      fill: #1967D2;\n",
              "      height: 32px;\n",
              "      padding: 0 0 0 0;\n",
              "      width: 32px;\n",
              "    }\n",
              "\n",
              "    .colab-df-convert:hover {\n",
              "      background-color: #E2EBFA;\n",
              "      box-shadow: 0px 1px 2px rgba(60, 64, 67, 0.3), 0px 1px 3px 1px rgba(60, 64, 67, 0.15);\n",
              "      fill: #174EA6;\n",
              "    }\n",
              "\n",
              "    [theme=dark] .colab-df-convert {\n",
              "      background-color: #3B4455;\n",
              "      fill: #D2E3FC;\n",
              "    }\n",
              "\n",
              "    [theme=dark] .colab-df-convert:hover {\n",
              "      background-color: #434B5C;\n",
              "      box-shadow: 0px 1px 3px 1px rgba(0, 0, 0, 0.15);\n",
              "      filter: drop-shadow(0px 1px 2px rgba(0, 0, 0, 0.3));\n",
              "      fill: #FFFFFF;\n",
              "    }\n",
              "  </style>\n",
              "\n",
              "      <script>\n",
              "        const buttonEl =\n",
              "          document.querySelector('#df-398fdd58-c327-4df1-b548-ec3b5795f727 button.colab-df-convert');\n",
              "        buttonEl.style.display =\n",
              "          google.colab.kernel.accessAllowed ? 'block' : 'none';\n",
              "\n",
              "        async function convertToInteractive(key) {\n",
              "          const element = document.querySelector('#df-398fdd58-c327-4df1-b548-ec3b5795f727');\n",
              "          const dataTable =\n",
              "            await google.colab.kernel.invokeFunction('convertToInteractive',\n",
              "                                                     [key], {});\n",
              "          if (!dataTable) return;\n",
              "\n",
              "          const docLinkHtml = 'Like what you see? Visit the ' +\n",
              "            '<a target=\"_blank\" href=https://colab.research.google.com/notebooks/data_table.ipynb>data table notebook</a>'\n",
              "            + ' to learn more about interactive tables.';\n",
              "          element.innerHTML = '';\n",
              "          dataTable['output_type'] = 'display_data';\n",
              "          await google.colab.output.renderOutput(dataTable, element);\n",
              "          const docLink = document.createElement('div');\n",
              "          docLink.innerHTML = docLinkHtml;\n",
              "          element.appendChild(docLink);\n",
              "        }\n",
              "      </script>\n",
              "    </div>\n",
              "  </div>\n",
              "  "
            ]
          },
          "metadata": {},
          "execution_count": 90
        }
      ]
    },
    {
      "cell_type": "markdown",
      "source": [
        "Here I've sorted BigSpenders, whose deals turnover is high. For instance, user with id 74204 is a Fan, which means that he has closed his last deal recently. But he is passive - closes not so many deals. Managers can use some promotions in order to push him make more deals on the platform. "
      ],
      "metadata": {
        "id": "Wc3nCJwB5OrO"
      }
    },
    {
      "cell_type": "markdown",
      "source": [
        "## **Results of last 3 months**"
      ],
      "metadata": {
        "id": "b0mcexDCJqIb"
      }
    },
    {
      "cell_type": "code",
      "source": [
        "# let's first understand which months we need to analise\n",
        "max(df.user_registration_time.max(), df.deal_create_time.max(), df.deal_close_time.max())\n",
        "# max date in dataframe is 2020-06-11, so we will look at the period April-June 2020 despite June is not full"
      ],
      "metadata": {
        "colab": {
          "base_uri": "https://localhost:8080/"
        },
        "id": "9W1rHNqRKbVf",
        "outputId": "13b15c87-a3b2-4d7e-b510-37ec1f864214"
      },
      "execution_count": null,
      "outputs": [
        {
          "output_type": "execute_result",
          "data": {
            "text/plain": [
              "Timestamp('2020-06-11 04:55:05')"
            ]
          },
          "metadata": {},
          "execution_count": 33
        }
      ]
    },
    {
      "cell_type": "code",
      "source": [
        "# how many users registered at the platform for last 3 months\n",
        "df.query(\"user_registration_time.dt.year == 2020 & user_registration_time.dt.month >= 4\").user_id.nunique()"
      ],
      "metadata": {
        "colab": {
          "base_uri": "https://localhost:8080/"
        },
        "id": "kLa7JV4IK2Lw",
        "outputId": "0f3eb8e6-c064-46a5-dc21-b6d304893119"
      },
      "execution_count": null,
      "outputs": [
        {
          "output_type": "execute_result",
          "data": {
            "text/plain": [
              "32553"
            ]
          },
          "metadata": {},
          "execution_count": 36
        }
      ]
    },
    {
      "cell_type": "code",
      "source": [
        "# how many users registered for last 3 months form different regions\n",
        "df.query(\"user_registration_time.dt.year == 2020 & user_registration_time.dt.month >= 4\"). \\\n",
        "  groupby('region').user_id.nunique().plot.bar();"
      ],
      "metadata": {
        "colab": {
          "base_uri": "https://localhost:8080/",
          "height": 354
        },
        "id": "VP3Te9ZFLlgM",
        "outputId": "ee77e180-9571-4f0a-e9f0-0fe9761ba66b"
      },
      "execution_count": null,
      "outputs": [
        {
          "output_type": "display_data",
          "data": {
            "text/plain": [
              "<Figure size 432x288 with 1 Axes>"
            ],
            "image/png": "[encoded data removed]"
          },
          "metadata": {
            "needs_background": "light"
          }
        }
      ]
    },
    {
      "cell_type": "code",
      "source": [
        "# how many deals were created for last 3 months\n",
        "df.query(\"deal_create_time.dt.year == 2020 & deal_create_time.dt.month >= 4\").shape[0]"
      ],
      "metadata": {
        "colab": {
          "base_uri": "https://localhost:8080/"
        },
        "id": "iRY3J71YMGkb",
        "outputId": "8f16d303-e8b2-44e8-a372-75c9e3b75e83"
      },
      "execution_count": null,
      "outputs": [
        {
          "output_type": "execute_result",
          "data": {
            "text/plain": [
              "199968"
            ]
          },
          "metadata": {},
          "execution_count": 39
        }
      ]
    },
    {
      "cell_type": "code",
      "source": [
        "# how many deals were closed for last 3 months\n",
        "df.query(\"deal_close_time.dt.year == 2020 & deal_close_time.dt.month >= 4\").shape[0]"
      ],
      "metadata": {
        "colab": {
          "base_uri": "https://localhost:8080/"
        },
        "id": "wPlCn83cMck8",
        "outputId": "0e6e18fd-a3ac-4940-ac2c-e3228e1a1f74"
      },
      "execution_count": null,
      "outputs": [
        {
          "output_type": "execute_result",
          "data": {
            "text/plain": [
              "200000"
            ]
          },
          "metadata": {},
          "execution_count": 40
        }
      ]
    },
    {
      "cell_type": "markdown",
      "source": [
        "The amount of closed deals for last 3 months probably because users have closed the deals, which were created before 2020-April-01"
      ],
      "metadata": {
        "id": "lsJ_DNafMspF"
      }
    },
    {
      "cell_type": "code",
      "source": [
        "# how many deals were created and closed in different regions\n",
        "print(\"The amount of created deals for last 3 months by region:\\n\")\n",
        "print(df.query(\"deal_create_time.dt.year == 2020 & deal_create_time.dt.month >= 4\").groupby('region').user_id.count())\n",
        "print(\"\\nThe amount of closed deals for last 3 months by region\\n\")\n",
        "print(df.query(\"deal_close_time.dt.year == 2020 & deal_close_time.dt.month >= 4\").groupby('region').user_id.count())"
      ],
      "metadata": {
        "colab": {
          "base_uri": "https://localhost:8080/"
        },
        "id": "tcJmBc3fMk65",
        "outputId": "80ee0b92-4e12-49a9-b309-e03eea3d0578"
      },
      "execution_count": null,
      "outputs": [
        {
          "output_type": "stream",
          "name": "stdout",
          "text": [
            "The amount of created deals for last 3 months by region:\n",
            "\n",
            "region\n",
            "ACO                 56495\n",
            "Africa              12579\n",
            "America (LATAM)    125529\n",
            "China                1246\n",
            "Non-reg Europe       1136\n",
            "Reg Europe           2983\n",
            "Name: user_id, dtype: int64\n",
            "\n",
            "The amount of closed deals for last 3 months by region\n",
            "\n",
            "region\n",
            "ACO                 56507\n",
            "Africa              12579\n",
            "America (LATAM)    125532\n",
            "China                1246\n",
            "Non-reg Europe       1138\n",
            "Reg Europe           2998\n",
            "Name: user_id, dtype: int64\n"
          ]
        }
      ]
    },
    {
      "cell_type": "code",
      "source": [
        "# how many deals were created and closed with different platforms\n",
        "print(\"The amount of created deals for last 3 months by platform:\\n\")\n",
        "print(df.query(\"deal_create_time.dt.year == 2020 & deal_create_time.dt.month >= 4\").groupby('deal_platform').user_id.count())\n",
        "print(\"\\nThe amount of closed deals for last 3 months by platform\\n\")\n",
        "print(df.query(\"deal_close_time.dt.year == 2020 & deal_close_time.dt.month >= 4\").groupby('deal_platform').user_id.count())"
      ],
      "metadata": {
        "colab": {
          "base_uri": "https://localhost:8080/"
        },
        "id": "44sO6y0QNEY5",
        "outputId": "59bc19aa-1952-413c-fbcd-cdceb86e2069"
      },
      "execution_count": null,
      "outputs": [
        {
          "output_type": "stream",
          "name": "stdout",
          "text": [
            "The amount of created deals for last 3 months by platform:\n",
            "\n",
            "deal_platform\n",
            "Android        73324\n",
            "Web           105902\n",
            "Web_mobile        81\n",
            "iOS            20661\n",
            "Name: user_id, dtype: int64\n",
            "\n",
            "The amount of closed deals for last 3 months by platform\n",
            "\n",
            "deal_platform\n",
            "Android        73333\n",
            "Web           105908\n",
            "Web_mobile        81\n",
            "iOS            20678\n",
            "Name: user_id, dtype: int64\n"
          ]
        }
      ]
    },
    {
      "cell_type": "code",
      "source": [
        "# what is the total pnl for last 3 months\n",
        "df.query(\"deal_close_time.dt.year == 2020 & deal_close_time.dt.month >= 4\").pnl.sum()"
      ],
      "metadata": {
        "colab": {
          "base_uri": "https://localhost:8080/"
        },
        "id": "bLMQ7tg8Nr9M",
        "outputId": "93aee92b-664d-41b4-d558-385843236749"
      },
      "execution_count": null,
      "outputs": [
        {
          "output_type": "execute_result",
          "data": {
            "text/plain": [
              "-165872.57494166665"
            ]
          },
          "metadata": {},
          "execution_count": 48
        }
      ]
    },
    {
      "cell_type": "code",
      "source": [
        "# what is average pnl per deal for last 3 months\n",
        "(df.query(\"deal_close_time.dt.year == 2020 & deal_close_time.dt.month >= 4\").pnl.sum()\n",
        "  / df.query(\"deal_close_time.dt.year == 2020 & deal_close_time.dt.month >= 4\").user_id.count())"
      ],
      "metadata": {
        "colab": {
          "base_uri": "https://localhost:8080/"
        },
        "id": "zFs6uD_9N9Ch",
        "outputId": "0c3c49cd-b934-481b-f1dc-c5963c197ed7"
      },
      "execution_count": null,
      "outputs": [
        {
          "output_type": "execute_result",
          "data": {
            "text/plain": [
              "-0.8293628747083333"
            ]
          },
          "metadata": {},
          "execution_count": 49
        }
      ]
    },
    {
      "cell_type": "code",
      "source": [
        "# average amount of deals closed per user for last 3 months\n",
        "(df.query(\"deal_close_time.dt.year == 2020 & deal_close_time.dt.month >= 4\").shape[0]\n",
        "  / df.query(\"deal_close_time.dt.year == 2020 & deal_close_time.dt.month >= 4\").user_id.nunique())"
      ],
      "metadata": {
        "colab": {
          "base_uri": "https://localhost:8080/"
        },
        "id": "DX9-BqG8OasH",
        "outputId": "accf0ff1-f327-4419-fc08-64e3c3aeabbc"
      },
      "execution_count": null,
      "outputs": [
        {
          "output_type": "execute_result",
          "data": {
            "text/plain": [
              "2.3945500041904624"
            ]
          },
          "metadata": {},
          "execution_count": 50
        }
      ]
    },
    {
      "cell_type": "markdown",
      "source": [
        "## **Results for 11 days of June 2020**"
      ],
      "metadata": {
        "id": "KJkqLOCLO0gA"
      }
    },
    {
      "cell_type": "code",
      "source": [
        "# how many users registered at the platform in June 2020\n",
        "df.query('user_registration_time.dt.year == 2020 & user_registration_time.dt.month == 6').user_id.nunique()"
      ],
      "metadata": {
        "colab": {
          "base_uri": "https://localhost:8080/"
        },
        "id": "KFnkgIQPOule",
        "outputId": "c45dcdfb-6b01-404a-f5b1-b352d7e8170a"
      },
      "execution_count": null,
      "outputs": [
        {
          "output_type": "execute_result",
          "data": {
            "text/plain": [
              "693"
            ]
          },
          "metadata": {},
          "execution_count": 52
        }
      ]
    },
    {
      "cell_type": "code",
      "source": [
        "# check if the amount of new users in June 2020 is bigger than in May 2020 (only compare first 11 days)\n",
        "time_max_june = df.query('user_registration_time.dt.year == 2020 & user_registration_time.dt.month == 6').user_registration_time.dt.time.max()\n",
        "(df.query('user_registration_time.dt.year == 2020 & user_registration_time.dt.month == 6').user_id.nunique()\n",
        "  - df.query('user_registration_time.dt.year == 2020 & user_registration_time.dt.month == 5 & user_registration_time.dt.day <= 11 & user_registration_time.dt.time <= @time_max_june').user_id.nunique())"
      ],
      "metadata": {
        "colab": {
          "base_uri": "https://localhost:8080/"
        },
        "id": "Krir21xfPHrw",
        "outputId": "5b153c2c-cb3d-4e0a-fa3b-66222efa14c9"
      },
      "execution_count": null,
      "outputs": [
        {
          "output_type": "execute_result",
          "data": {
            "text/plain": [
              "-6839"
            ]
          },
          "metadata": {},
          "execution_count": 64
        }
      ]
    },
    {
      "cell_type": "markdown",
      "source": [
        "For first 11 days of June 2020 6839 users less registered at the platform than for first 11 days of May 2020"
      ],
      "metadata": {
        "id": "Ydm25NX4P5GT"
      }
    },
    {
      "cell_type": "code",
      "source": [
        "# check if the amount of new users in June 2020 is bigger than in April 2020 (only compare first 11 days)\n",
        "time_max_june = df.query('user_registration_time.dt.year == 2020 & user_registration_time.dt.month == 6').user_registration_time.dt.time.max()\n",
        "(df.query('user_registration_time.dt.year == 2020 & user_registration_time.dt.month == 6').user_id.nunique()\n",
        "  - df.query('user_registration_time.dt.year == 2020 & user_registration_time.dt.month == 4 & user_registration_time.dt.day <= 11 & user_registration_time.dt.time <= @time_max_june').user_id.nunique())"
      ],
      "metadata": {
        "colab": {
          "base_uri": "https://localhost:8080/"
        },
        "id": "PgH49zgCPq-T",
        "outputId": "b8f4157c-6ed7-4ffd-8d82-9ecca375af8f"
      },
      "execution_count": null,
      "outputs": [
        {
          "output_type": "execute_result",
          "data": {
            "text/plain": [
              "-4148"
            ]
          },
          "metadata": {},
          "execution_count": 63
        }
      ]
    },
    {
      "cell_type": "markdown",
      "source": [
        "In comparison with April 2020 June also loses in terms of registrations number"
      ],
      "metadata": {
        "id": "WP-ldRarSoQi"
      }
    },
    {
      "cell_type": "code",
      "source": [
        "# ckeck the amount of deals created in June\n",
        "df.query('deal_create_time.dt.year == 2020 & deal_create_time.dt.month == 6').shape[0]"
      ],
      "metadata": {
        "colab": {
          "base_uri": "https://localhost:8080/"
        },
        "id": "JYg9ilFaR80S",
        "outputId": "4cfb4afa-ddd8-4c40-f5bb-5efba5640b4c"
      },
      "execution_count": null,
      "outputs": [
        {
          "output_type": "execute_result",
          "data": {
            "text/plain": [
              "22170"
            ]
          },
          "metadata": {},
          "execution_count": 66
        }
      ]
    },
    {
      "cell_type": "code",
      "source": [
        "# check if the amount of deals created in June 2020 is bigger than in May 2020 (only compare first 11 days)\n",
        "time_max_june = df.query('deal_create_time.dt.year == 2020 & deal_create_time.dt.month == 6').deal_create_time.dt.time.max()\n",
        "(df.query('deal_create_time.dt.year == 2020 & deal_create_time.dt.month == 6').shape[0]\n",
        "  - df.query('deal_create_time.dt.year == 2020 & deal_create_time.dt.month == 5 & deal_create_time.dt.day <= 11 & deal_create_time.dt.time <= @time_max_june').shape[0])"
      ],
      "metadata": {
        "colab": {
          "base_uri": "https://localhost:8080/"
        },
        "id": "ZWDZgd_mTTOI",
        "outputId": "c72c329e-8e68-4694-a82a-582c0c4e5f09"
      },
      "execution_count": null,
      "outputs": [
        {
          "output_type": "execute_result",
          "data": {
            "text/plain": [
              "3309"
            ]
          },
          "metadata": {},
          "execution_count": 67
        }
      ]
    },
    {
      "cell_type": "markdown",
      "source": [
        "The amount of deals created in June 2020 is 3309 higher that in May 2020"
      ],
      "metadata": {
        "id": "wF8V2wwxTzzg"
      }
    },
    {
      "cell_type": "code",
      "source": [
        "# ckeck the average amount of deals created per user in June 2020\n",
        "(df.query('deal_create_time.dt.year == 2020 & deal_create_time.dt.month == 6').shape[0] / \n",
        "  df.query('deal_create_time.dt.year == 2020 & deal_create_time.dt.month == 6').user_id.nunique())"
      ],
      "metadata": {
        "colab": {
          "base_uri": "https://localhost:8080/"
        },
        "id": "UXBrYh7PTx5M",
        "outputId": "6b277ca9-8e75-4ce5-f973-9b5b0f8a6f19"
      },
      "execution_count": null,
      "outputs": [
        {
          "output_type": "execute_result",
          "data": {
            "text/plain": [
              "1.5835714285714286"
            ]
          },
          "metadata": {},
          "execution_count": 69
        }
      ]
    },
    {
      "cell_type": "code",
      "source": [
        "# ckeck if the average amount of deals created per user in June 2020 is higher than in May 2020(only compare first 11 days)\n",
        "time_max_june = df.query('deal_create_time.dt.year == 2020 & deal_create_time.dt.month == 6').deal_create_time.dt.time.max()\n",
        "((df.query('deal_create_time.dt.year == 2020 & deal_create_time.dt.month == 6').shape[0] / \n",
        "  df.query('deal_create_time.dt.year == 2020 & deal_create_time.dt.month == 6').user_id.nunique()) - \n",
        " (df.query('deal_create_time.dt.year == 2020 & deal_create_time.dt.month == 5 & deal_create_time.dt.day <= 11 & deal_create_time.dt.time <= @time_max_june').shape[0] / \n",
        "  df.query('deal_create_time.dt.year == 2020 & deal_create_time.dt.month == 5 & deal_create_time.dt.day <= 11 & deal_create_time.dt.time <= @time_max_june').user_id.nunique()))"
      ],
      "metadata": {
        "colab": {
          "base_uri": "https://localhost:8080/"
        },
        "id": "CN0uQRoDYSGr",
        "outputId": "beaa77af-e1a4-4999-ec8d-a884bfadff14"
      },
      "execution_count": null,
      "outputs": [
        {
          "output_type": "execute_result",
          "data": {
            "text/plain": [
              "-0.14663680920492217"
            ]
          },
          "metadata": {},
          "execution_count": 72
        }
      ]
    },
    {
      "cell_type": "markdown",
      "source": [
        "Average activity (amount of deals created per user) decreased in June 2020 in comparison with May 2020"
      ],
      "metadata": {
        "id": "kKubqeSAY4aU"
      }
    },
    {
      "cell_type": "code",
      "source": [
        "# ckeck the amount of deals closed in June\n",
        "df.query('deal_close_time.dt.year == 2020 & deal_close_time.dt.month == 6').shape[0]"
      ],
      "metadata": {
        "colab": {
          "base_uri": "https://localhost:8080/"
        },
        "id": "Aquz1fUzYwgX",
        "outputId": "99ff430a-7f10-406d-99ea-fa27248b1100"
      },
      "execution_count": null,
      "outputs": [
        {
          "output_type": "execute_result",
          "data": {
            "text/plain": [
              "22315"
            ]
          },
          "metadata": {},
          "execution_count": 73
        }
      ]
    },
    {
      "cell_type": "code",
      "source": [
        "# check if the amount of deals closed in June 2020 is bigger than in May 2020 (only compare first 11 days)\n",
        "time_max_june = df.query('deal_close_time.dt.year == 2020 & deal_close_time.dt.month == 6').deal_close_time.dt.time.max()\n",
        "(df.query('deal_close_time.dt.year == 2020 & deal_close_time.dt.month == 6').shape[0]\n",
        "  - df.query('deal_close_time.dt.year == 2020 & deal_close_time.dt.month == 5 & deal_close_time.dt.day <= 11 & deal_close_time.dt.time <= @time_max_june').shape[0])"
      ],
      "metadata": {
        "colab": {
          "base_uri": "https://localhost:8080/"
        },
        "id": "SAy3rilOad_r",
        "outputId": "84543a68-19d9-4b6f-a433-0f4b0f68392b"
      },
      "execution_count": null,
      "outputs": [
        {
          "output_type": "execute_result",
          "data": {
            "text/plain": [
              "3780"
            ]
          },
          "metadata": {},
          "execution_count": 76
        }
      ]
    },
    {
      "cell_type": "markdown",
      "source": [
        "The amount of deals closed in June 2020 is 3780 higher that in May 2020"
      ],
      "metadata": {
        "id": "BvNlic24axHm"
      }
    },
    {
      "cell_type": "code",
      "source": [
        "# ckeck the average amount of deals closed per user in June 2020\n",
        "(df.query('deal_close_time.dt.year == 2020 & deal_close_time.dt.month == 6').shape[0] / \n",
        "  df.query('deal_close_time.dt.year == 2020 & deal_close_time.dt.month == 6').user_id.nunique())"
      ],
      "metadata": {
        "colab": {
          "base_uri": "https://localhost:8080/"
        },
        "id": "seh_dyZuatMq",
        "outputId": "e5d29442-de6a-4b53-f206-6ce78b8575be"
      },
      "execution_count": null,
      "outputs": [
        {
          "output_type": "execute_result",
          "data": {
            "text/plain": [
              "1.582960913669575"
            ]
          },
          "metadata": {},
          "execution_count": 75
        }
      ]
    },
    {
      "cell_type": "code",
      "source": [
        "# ckeck if the average amount of deals closed per user in June 2020 is higher than in May 2020(only compare first 11 days)\n",
        "time_max_june = df.query('deal_close_time.dt.year == 2020 & deal_close_time.dt.month == 6').deal_close_time.dt.time.max()\n",
        "((df.query('deal_close_time.dt.year == 2020 & deal_close_time.dt.month == 6').shape[0] / \n",
        "  df.query('deal_close_time.dt.year == 2020 & deal_close_time.dt.month == 6').user_id.nunique()) - \n",
        " (df.query('deal_close_time.dt.year == 2020 & deal_close_time.dt.month == 5 & deal_close_time.dt.day <= 11 & deal_close_time.dt.time <= @time_max_june').shape[0] / \n",
        "  df.query('deal_close_time.dt.year == 2020 & deal_close_time.dt.month == 5 & deal_close_time.dt.day <= 11 & deal_close_time.dt.time <= @time_max_june').user_id.nunique()))"
      ],
      "metadata": {
        "colab": {
          "base_uri": "https://localhost:8080/"
        },
        "id": "x8EinXOra8aJ",
        "outputId": "9659768b-2a3b-459c-fe19-ec4ca748bd30"
      },
      "execution_count": null,
      "outputs": [
        {
          "output_type": "execute_result",
          "data": {
            "text/plain": [
              "-0.1549668875493655"
            ]
          },
          "metadata": {},
          "execution_count": 77
        }
      ]
    },
    {
      "cell_type": "markdown",
      "source": [
        "Average activity (amount of deals closed per user) decreased in June 2020 in comparison with May 2020"
      ],
      "metadata": {
        "id": "IzXBVhWqbZG4"
      }
    },
    {
      "cell_type": "code",
      "source": [
        "# average pnl per deal in June 2020\n",
        "(df.query('deal_close_time.dt.year == 2020 & deal_close_time.dt.month == 6').pnl.sum() /\n",
        " df.query('deal_close_time.dt.year == 2020 & deal_close_time.dt.month == 6').shape[0])"
      ],
      "metadata": {
        "colab": {
          "base_uri": "https://localhost:8080/"
        },
        "id": "QakP8U-cbUqM",
        "outputId": "4732aa1e-0ef1-4dfc-9bae-240687d7c97f"
      },
      "execution_count": null,
      "outputs": [
        {
          "output_type": "execute_result",
          "data": {
            "text/plain": [
              "-1.1119528095451487"
            ]
          },
          "metadata": {},
          "execution_count": 78
        }
      ]
    },
    {
      "cell_type": "code",
      "source": [
        "# compare average pnl per deal in June 2020 and May 2020\n",
        "time_max_june = df.query('deal_close_time.dt.year == 2020 & deal_close_time.dt.month == 6').deal_close_time.dt.time.max()\n",
        "print(\"Average pnl per deal in June 2020:\\n\")\n",
        "print(df.query('deal_close_time.dt.year == 2020 & deal_close_time.dt.month == 6').pnl.sum() /\n",
        " df.query('deal_close_time.dt.year == 2020 & deal_close_time.dt.month == 6').shape[0])\n",
        "print('\\nAverage pnl per deal in May 2020:\\n')\n",
        "print(df.query('deal_close_time.dt.year == 2020 & deal_close_time.dt.month == 5 & deal_close_time.dt.day <= 11 & deal_close_time.dt.time <= @time_max_june').pnl.sum() /\n",
        " df.query('deal_close_time.dt.year == 2020 & deal_close_time.dt.month == 5 & deal_close_time.dt.day <= 11 & deal_close_time.dt.time <= @time_max_june').shape[0])"
      ],
      "metadata": {
        "colab": {
          "base_uri": "https://localhost:8080/"
        },
        "id": "9Wm8vR_3b0af",
        "outputId": "d9e94d7d-696b-49c9-f76f-a62e8ed2e2ba"
      },
      "execution_count": null,
      "outputs": [
        {
          "output_type": "stream",
          "name": "stdout",
          "text": [
            "Average pnl per deal in June 2020:\n",
            "\n",
            "-1.1119528095451487\n",
            "\n",
            "Average pnl per deal in May 2020:\n",
            "\n",
            "-0.7494900557503821\n"
          ]
        }
      ]
    },
    {
      "cell_type": "markdown",
      "source": [
        "Average pnl per deal decreased in June 2020 in comparison with May 2020"
      ],
      "metadata": {
        "id": "ZsQb_Fc1cXKi"
      }
    }
  ]
}